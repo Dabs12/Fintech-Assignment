{
 "cells": [
  {
   "cell_type": "code",
   "execution_count": 2,
   "id": "d0ba22df",
   "metadata": {},
   "outputs": [],
   "source": [
    "import numpy as np\n",
    "import matplotlib.pyplot as plt\n",
    "import pandas as pd\n",
    "import json\n",
    "import requests\n",
    "# for x : start_date=2022-04-15&end_date=2022-04-19\n"
   ]
  },
  {
   "cell_type": "code",
   "execution_count": null,
   "id": "f3653c06",
   "metadata": {},
   "outputs": [],
   "source": [
    "# GET BTC Number of Transactions per block API from QUANDL"
   ]
  },
  {
   "cell_type": "code",
   "execution_count": 126,
   "id": "e79e0713",
   "metadata": {},
   "outputs": [
    {
     "name": "stdout",
     "output_type": "stream",
     "text": [
      "200\n"
     ]
    }
   ],
   "source": [
    "response1 = requests.get(\"https://data.nasdaq.com/api/v3/datasets/BCHAIN/ATRCT.json?api_key=8V5HY1rLg3GFagpWR5p5&start_date=2021-10-04&end_date=2022-04-22&api_key=8V5HY1rLg3GFagpWR5p5\")\n",
    "print(response1.status_code)"
   ]
  },
  {
   "cell_type": "code",
   "execution_count": null,
   "id": "e9619c8f",
   "metadata": {},
   "outputs": [],
   "source": [
    "# Load JSON data to a variable"
   ]
  },
  {
   "cell_type": "code",
   "execution_count": 127,
   "id": "7060fce0",
   "metadata": {},
   "outputs": [
    {
     "name": "stdout",
     "output_type": "stream",
     "text": [
      "{'dataset': {'id': 7692473, 'dataset_code': 'ATRCT', 'database_code': 'BCHAIN', 'name': 'Bitcoin Median Transaction Confirmation Time', 'description': 'The median time for a transaction to be accepted into a mined block and added to the public ledger (note: only includes transactions with miner fees).', 'refreshed_at': '2022-04-22T23:00:44.402Z', 'newest_available_date': '2022-04-21', 'oldest_available_date': '2009-01-03', 'column_names': ['Date', 'Value'], 'frequency': 'daily', 'type': 'Time Series', 'premium': False, 'limit': None, 'transform': None, 'column_index': None, 'start_date': '2021-10-04', 'end_date': '2022-04-21', 'data': [['2022-04-21', 5.566666666666666], ['2022-04-20', 5.35], ['2022-04-19', 9.391666666666666], ['2022-04-18', 10.058333333333334], ['2022-04-17', 4.116666666666666], ['2022-04-16', 6.225], ['2022-04-15', 5.183333333333334], ['2022-04-14', 8.625], ['2022-04-13', 8.1], ['2022-04-12', 6.691666666666666], ['2022-04-11', 8.6], ['2022-04-10', 5.375], ['2022-04-09', 5.583333333333333], ['2022-04-08', 9.0375], ['2022-04-07', 7.504166666666666], ['2022-04-06', 7.358333333333333], ['2022-04-05', 7.808333333333334], ['2022-04-04', 6.091666666666667], ['2022-04-03', 6.05], ['2022-04-02', 8.916666666666666], ['2022-04-01', 8.391666666666667], ['2022-03-31', 8.033333333333333], ['2022-03-30', 9.65], ['2022-03-29', 6.633333333333334], ['2022-03-28', 6.85], ['2022-03-27', 7.133333333333334], ['2022-03-26', 4.9], ['2022-03-25', 7.4], ['2022-03-24', 8.066666666666666], ['2022-03-23', 7.683333333333334], ['2022-03-22', 6.816666666666666], ['2022-03-21', 6.55], ['2022-03-20', 4.725], ['2022-03-19', 6.666666666666667], ['2022-03-18', 7.45], ['2022-03-17', 6.383333333333334], ['2022-03-16', 7.866666666666666], ['2022-03-15', 6.85], ['2022-03-14', 6.341666666666667], ['2022-03-13', 4.766666666666667], ['2022-03-12', 4.491666666666667], ['2022-03-11', 9.479166666666668], ['2022-03-10', 8.183333333333334], ['2022-03-09', 9.925], ['2022-03-08', 6.554166666666667], ['2022-03-07', 7.237500000000001], ['2022-03-06', 7.183333333333334], ['2022-03-05', 10.316666666666666], ['2022-03-04', 8.583333333333334], ['2022-03-03', 7.016666666666667], ['2022-03-02', 11.225], ['2022-03-01', 7.091666666666667], ['2022-02-28', 5.941666666666666], ['2022-02-27', 7.225], ['2022-02-26', 7.566666666666666], ['2022-02-25', 8.954166666666666], ['2022-02-24', 8.5125], ['2022-02-23', 5.816666666666666], ['2022-02-22', 5.808333333333334], ['2022-02-21', 9.85], ['2022-02-20', 4.5], ['2022-02-19', 5.566666666666666], ['2022-02-18', 7.9], ['2022-02-17', 5.75], ['2022-02-16', 6.016666666666667], ['2022-02-15', 5.433333333333334], ['2022-02-14', 5.566666666666666], ['2022-02-13', 5.158333333333333], ['2022-02-12', 4.433333333333334], ['2022-02-11', 8.75], ['2022-02-10', 8.05], ['2022-02-09', 7.6625], ['2022-02-08', 7.6], ['2022-02-07', 8.2], ['2022-02-06', 5.775], ['2022-02-05', 11.65], ['2022-02-04', 7.616666666666666], ['2022-02-03', 5.983333333333333], ['2022-02-02', 7.55], ['2022-02-01', 7.454166666666667], ['2022-01-31', 7.683333333333334], ['2022-01-30', 5.504166666666666], ['2022-01-29', 6.05], ['2022-01-28', 7.429166666666667], ['2022-01-27', 9.566666666666666], ['2022-01-26', 7.633333333333333], ['2022-01-25', 6.566666666666666], ['2022-01-24', 6.958333333333334], ['2022-01-23', 5.183333333333334], ['2022-01-22', 8.1], ['2022-01-21', 10.595833333333333], ['2022-01-20', 6.333333333333333], ['2022-01-19', 4.566666666666666], ['2022-01-18', 7.116666666666667], ['2022-01-17', 5.641666666666667], ['2022-01-16', 3.7416666666666667], ['2022-01-15', 4.275], ['2022-01-14', 5.166666666666667], ['2022-01-13', 4.4], ['2022-01-12', 6.841666666666667], ['2022-01-11', 6.55], ['2022-01-10', 7.420833333333333], ['2022-01-09', 6.016666666666667], ['2022-01-08', 5.7625], ['2022-01-07', 7.675], ['2022-01-06', 8.05], ['2022-01-05', 7.641666666666667], ['2022-01-04', 7.275], ['2022-01-03', 7.120833333333334], ['2022-01-02', 4.275], ['2022-01-01', 3.5833333333333335], ['2021-12-31', 8.7], ['2021-12-30', 9.0], ['2021-12-29', 8.083333333333334], ['2021-12-28', 9.945833333333333], ['2021-12-27', 7.433333333333334], ['2021-12-26', 6.566666666666666], ['2021-12-25', 5.85], ['2021-12-24', 6.766666666666667], ['2021-12-23', 6.241666666666667], ['2021-12-22', 7.291666666666666], ['2021-12-21', 5.95], ['2021-12-20', 6.908333333333333], ['2021-12-19', 4.45], ['2021-12-18', 8.020833333333334], ['2021-12-17', 6.966666666666667], ['2021-12-16', 8.9], ['2021-12-15', 7.266666666666667], ['2021-12-14', 6.0], ['2021-12-13', 7.8], ['2021-12-12', 5.05], ['2021-12-11', 4.033333333333333], ['2021-12-10', 6.516666666666667], ['2021-12-09', 5.783333333333333], ['2021-12-08', 4.566666666666666], ['2021-12-07', 6.033333333333333], ['2021-12-06', 4.991666666666667], ['2021-12-05', 4.6875], ['2021-12-04', 6.716666666666667], ['2021-12-03', 4.725], ['2021-12-02', 9.216666666666667], ['2021-12-01', 9.533333333333333], ['2021-11-30', 8.008333333333333], ['2021-11-29', 6.916666666666667], ['2021-11-28', 4.85], ['2021-11-27', 4.983333333333333], ['2021-11-26', 8.566666666666666], ['2021-11-25', 9.083333333333334], ['2021-11-24', 7.333333333333333], ['2021-11-23', 9.133333333333333], ['2021-11-22', 7.35], ['2021-11-21', 7.525], ['2021-11-20', 6.758333333333334], ['2021-11-19', 8.933333333333334], ['2021-11-18', 6.925000000000001], ['2021-11-17', 7.566666666666666], ['2021-11-16', 7.408333333333333], ['2021-11-15', 7.3], ['2021-11-14', 4.516666666666667], ['2021-11-13', 5.2], ['2021-11-12', 7.983333333333333], ['2021-11-11', 6.516666666666667], ['2021-11-10', 6.9], ['2021-11-09', 10.225], ['2021-11-08', 9.25], ['2021-11-07', 5.358333333333333], ['2021-11-06', 5.7375], ['2021-11-05', 7.616666666666666], ['2021-11-04', 8.433333333333334], ['2021-11-03', 6.116666666666666], ['2021-11-02', 6.933333333333334], ['2021-11-01', 7.633333333333333], ['2021-10-31', 6.5], ['2021-10-30', 5.45], ['2021-10-29', 6.1], ['2021-10-28', 6.95], ['2021-10-27', 5.7], ['2021-10-26', 6.983333333333333], ['2021-10-25', 5.116666666666667], ['2021-10-24', 4.675], ['2021-10-23', 6.041666666666667], ['2021-10-22', 5.9125], ['2021-10-21', 9.925], ['2021-10-20', 7.141666666666667], ['2021-10-19', 8.05], ['2021-10-18', 7.449999999999999], ['2021-10-17', 4.658333333333333], ['2021-10-16', 9.5], ['2021-10-15', 8.2], ['2021-10-14', 8.25], ['2021-10-13', 6.266666666666667], ['2021-10-12', 8.304166666666667], ['2021-10-11', 8.304166666666667], ['2021-10-10', 4.566666666666666], ['2021-10-09', 7.75], ['2021-10-08', 11.241666666666667], ['2021-10-07', 11.716666666666667], ['2021-10-06', 9.633333333333333], ['2021-10-05', 6.658333333333333], ['2021-10-04', 5.995833333333334]], 'collapse': None, 'order': None, 'database_id': 893}}\n"
     ]
    }
   ],
   "source": [
    "BTCvol=json.loads(response1.text)\n",
    "print(BTCvol)\n"
   ]
  },
  {
   "cell_type": "code",
   "execution_count": 128,
   "id": "8853e7f9",
   "metadata": {
    "scrolled": true
   },
   "outputs": [
    {
     "name": "stdout",
     "output_type": "stream",
     "text": [
      "Inpection Level 1 \n",
      "\n",
      " dict_keys(['Aggregated', 'TimeFrom', 'TimeTo', 'Data'])\n"
     ]
    }
   ],
   "source": [
    "print('Inpection Level 1 \\n\\n', BTCprice.keys())"
   ]
  },
  {
   "cell_type": "code",
   "execution_count": 129,
   "id": "af8c7b75",
   "metadata": {},
   "outputs": [
    {
     "ename": "KeyError",
     "evalue": "'dataset'",
     "output_type": "error",
     "traceback": [
      "\u001b[1;31m---------------------------------------------------------------------------\u001b[0m",
      "\u001b[1;31mKeyError\u001b[0m                                  Traceback (most recent call last)",
      "\u001b[1;32m~\\AppData\\Local\\Temp/ipykernel_27900/3288892294.py\u001b[0m in \u001b[0;36m<module>\u001b[1;34m\u001b[0m\n\u001b[1;32m----> 1\u001b[1;33m \u001b[0mprint\u001b[0m\u001b[1;33m(\u001b[0m\u001b[1;34m'Inpection Level 2 \\n\\n'\u001b[0m\u001b[1;33m,\u001b[0m \u001b[0mBTCprice\u001b[0m\u001b[1;33m[\u001b[0m\u001b[1;34m'dataset'\u001b[0m\u001b[1;33m]\u001b[0m\u001b[1;33m.\u001b[0m\u001b[0mkeys\u001b[0m\u001b[1;33m(\u001b[0m\u001b[1;33m)\u001b[0m\u001b[1;33m)\u001b[0m\u001b[1;33m\u001b[0m\u001b[1;33m\u001b[0m\u001b[0m\n\u001b[0m",
      "\u001b[1;31mKeyError\u001b[0m: 'dataset'"
     ]
    }
   ],
   "source": [
    "print('Inpection Level 2 \\n\\n', BTCprice['dataset'].keys())"
   ]
  },
  {
   "cell_type": "code",
   "execution_count": null,
   "id": "117c5cc0",
   "metadata": {},
   "outputs": [],
   "source": [
    "# The Date and close price of BTC is inside the data nest so we rewrite the variable BTC price"
   ]
  },
  {
   "cell_type": "code",
   "execution_count": 130,
   "id": "1f6c7501",
   "metadata": {},
   "outputs": [
    {
     "name": "stdout",
     "output_type": "stream",
     "text": [
      "[['2022-04-21', 5.566666666666666], ['2022-04-20', 5.35], ['2022-04-19', 9.391666666666666], ['2022-04-18', 10.058333333333334], ['2022-04-17', 4.116666666666666], ['2022-04-16', 6.225], ['2022-04-15', 5.183333333333334], ['2022-04-14', 8.625], ['2022-04-13', 8.1], ['2022-04-12', 6.691666666666666], ['2022-04-11', 8.6], ['2022-04-10', 5.375], ['2022-04-09', 5.583333333333333], ['2022-04-08', 9.0375], ['2022-04-07', 7.504166666666666], ['2022-04-06', 7.358333333333333], ['2022-04-05', 7.808333333333334], ['2022-04-04', 6.091666666666667], ['2022-04-03', 6.05], ['2022-04-02', 8.916666666666666], ['2022-04-01', 8.391666666666667], ['2022-03-31', 8.033333333333333], ['2022-03-30', 9.65], ['2022-03-29', 6.633333333333334], ['2022-03-28', 6.85], ['2022-03-27', 7.133333333333334], ['2022-03-26', 4.9], ['2022-03-25', 7.4], ['2022-03-24', 8.066666666666666], ['2022-03-23', 7.683333333333334], ['2022-03-22', 6.816666666666666], ['2022-03-21', 6.55], ['2022-03-20', 4.725], ['2022-03-19', 6.666666666666667], ['2022-03-18', 7.45], ['2022-03-17', 6.383333333333334], ['2022-03-16', 7.866666666666666], ['2022-03-15', 6.85], ['2022-03-14', 6.341666666666667], ['2022-03-13', 4.766666666666667], ['2022-03-12', 4.491666666666667], ['2022-03-11', 9.479166666666668], ['2022-03-10', 8.183333333333334], ['2022-03-09', 9.925], ['2022-03-08', 6.554166666666667], ['2022-03-07', 7.237500000000001], ['2022-03-06', 7.183333333333334], ['2022-03-05', 10.316666666666666], ['2022-03-04', 8.583333333333334], ['2022-03-03', 7.016666666666667], ['2022-03-02', 11.225], ['2022-03-01', 7.091666666666667], ['2022-02-28', 5.941666666666666], ['2022-02-27', 7.225], ['2022-02-26', 7.566666666666666], ['2022-02-25', 8.954166666666666], ['2022-02-24', 8.5125], ['2022-02-23', 5.816666666666666], ['2022-02-22', 5.808333333333334], ['2022-02-21', 9.85], ['2022-02-20', 4.5], ['2022-02-19', 5.566666666666666], ['2022-02-18', 7.9], ['2022-02-17', 5.75], ['2022-02-16', 6.016666666666667], ['2022-02-15', 5.433333333333334], ['2022-02-14', 5.566666666666666], ['2022-02-13', 5.158333333333333], ['2022-02-12', 4.433333333333334], ['2022-02-11', 8.75], ['2022-02-10', 8.05], ['2022-02-09', 7.6625], ['2022-02-08', 7.6], ['2022-02-07', 8.2], ['2022-02-06', 5.775], ['2022-02-05', 11.65], ['2022-02-04', 7.616666666666666], ['2022-02-03', 5.983333333333333], ['2022-02-02', 7.55], ['2022-02-01', 7.454166666666667], ['2022-01-31', 7.683333333333334], ['2022-01-30', 5.504166666666666], ['2022-01-29', 6.05], ['2022-01-28', 7.429166666666667], ['2022-01-27', 9.566666666666666], ['2022-01-26', 7.633333333333333], ['2022-01-25', 6.566666666666666], ['2022-01-24', 6.958333333333334], ['2022-01-23', 5.183333333333334], ['2022-01-22', 8.1], ['2022-01-21', 10.595833333333333], ['2022-01-20', 6.333333333333333], ['2022-01-19', 4.566666666666666], ['2022-01-18', 7.116666666666667], ['2022-01-17', 5.641666666666667], ['2022-01-16', 3.7416666666666667], ['2022-01-15', 4.275], ['2022-01-14', 5.166666666666667], ['2022-01-13', 4.4], ['2022-01-12', 6.841666666666667], ['2022-01-11', 6.55], ['2022-01-10', 7.420833333333333], ['2022-01-09', 6.016666666666667], ['2022-01-08', 5.7625], ['2022-01-07', 7.675], ['2022-01-06', 8.05], ['2022-01-05', 7.641666666666667], ['2022-01-04', 7.275], ['2022-01-03', 7.120833333333334], ['2022-01-02', 4.275], ['2022-01-01', 3.5833333333333335], ['2021-12-31', 8.7], ['2021-12-30', 9.0], ['2021-12-29', 8.083333333333334], ['2021-12-28', 9.945833333333333], ['2021-12-27', 7.433333333333334], ['2021-12-26', 6.566666666666666], ['2021-12-25', 5.85], ['2021-12-24', 6.766666666666667], ['2021-12-23', 6.241666666666667], ['2021-12-22', 7.291666666666666], ['2021-12-21', 5.95], ['2021-12-20', 6.908333333333333], ['2021-12-19', 4.45], ['2021-12-18', 8.020833333333334], ['2021-12-17', 6.966666666666667], ['2021-12-16', 8.9], ['2021-12-15', 7.266666666666667], ['2021-12-14', 6.0], ['2021-12-13', 7.8], ['2021-12-12', 5.05], ['2021-12-11', 4.033333333333333], ['2021-12-10', 6.516666666666667], ['2021-12-09', 5.783333333333333], ['2021-12-08', 4.566666666666666], ['2021-12-07', 6.033333333333333], ['2021-12-06', 4.991666666666667], ['2021-12-05', 4.6875], ['2021-12-04', 6.716666666666667], ['2021-12-03', 4.725], ['2021-12-02', 9.216666666666667], ['2021-12-01', 9.533333333333333], ['2021-11-30', 8.008333333333333], ['2021-11-29', 6.916666666666667], ['2021-11-28', 4.85], ['2021-11-27', 4.983333333333333], ['2021-11-26', 8.566666666666666], ['2021-11-25', 9.083333333333334], ['2021-11-24', 7.333333333333333], ['2021-11-23', 9.133333333333333], ['2021-11-22', 7.35], ['2021-11-21', 7.525], ['2021-11-20', 6.758333333333334], ['2021-11-19', 8.933333333333334], ['2021-11-18', 6.925000000000001], ['2021-11-17', 7.566666666666666], ['2021-11-16', 7.408333333333333], ['2021-11-15', 7.3], ['2021-11-14', 4.516666666666667], ['2021-11-13', 5.2], ['2021-11-12', 7.983333333333333], ['2021-11-11', 6.516666666666667], ['2021-11-10', 6.9], ['2021-11-09', 10.225], ['2021-11-08', 9.25], ['2021-11-07', 5.358333333333333], ['2021-11-06', 5.7375], ['2021-11-05', 7.616666666666666], ['2021-11-04', 8.433333333333334], ['2021-11-03', 6.116666666666666], ['2021-11-02', 6.933333333333334], ['2021-11-01', 7.633333333333333], ['2021-10-31', 6.5], ['2021-10-30', 5.45], ['2021-10-29', 6.1], ['2021-10-28', 6.95], ['2021-10-27', 5.7], ['2021-10-26', 6.983333333333333], ['2021-10-25', 5.116666666666667], ['2021-10-24', 4.675], ['2021-10-23', 6.041666666666667], ['2021-10-22', 5.9125], ['2021-10-21', 9.925], ['2021-10-20', 7.141666666666667], ['2021-10-19', 8.05], ['2021-10-18', 7.449999999999999], ['2021-10-17', 4.658333333333333], ['2021-10-16', 9.5], ['2021-10-15', 8.2], ['2021-10-14', 8.25], ['2021-10-13', 6.266666666666667], ['2021-10-12', 8.304166666666667], ['2021-10-11', 8.304166666666667], ['2021-10-10', 4.566666666666666], ['2021-10-09', 7.75], ['2021-10-08', 11.241666666666667], ['2021-10-07', 11.716666666666667], ['2021-10-06', 9.633333333333333], ['2021-10-05', 6.658333333333333], ['2021-10-04', 5.995833333333334]]\n"
     ]
    }
   ],
   "source": [
    "BTCvol=json.loads(response1.text)['dataset']['data']\n",
    "print(BTCvol)"
   ]
  },
  {
   "cell_type": "code",
   "execution_count": null,
   "id": "eac78f43",
   "metadata": {},
   "outputs": [],
   "source": [
    "# Creating a DataFrame for date and closing prices of BTC in USD"
   ]
  },
  {
   "cell_type": "code",
   "execution_count": 131,
   "id": "6b2d89cf",
   "metadata": {},
   "outputs": [
    {
     "name": "stdout",
     "output_type": "stream",
     "text": [
      "              0          1\n",
      "0    2022-04-21   5.566667\n",
      "1    2022-04-20   5.350000\n",
      "2    2022-04-19   9.391667\n",
      "3    2022-04-18  10.058333\n",
      "4    2022-04-17   4.116667\n",
      "..          ...        ...\n",
      "195  2021-10-08  11.241667\n",
      "196  2021-10-07  11.716667\n",
      "197  2021-10-06   9.633333\n",
      "198  2021-10-05   6.658333\n",
      "199  2021-10-04   5.995833\n",
      "\n",
      "[200 rows x 2 columns]\n"
     ]
    }
   ],
   "source": [
    "BTCvoldf = pd.DataFrame(BTCvol)\n",
    "print(BTCvoldf)"
   ]
  },
  {
   "cell_type": "code",
   "execution_count": null,
   "id": "5ab404e4",
   "metadata": {},
   "outputs": [],
   "source": [
    "# We need only the close price for our analysis"
   ]
  },
  {
   "cell_type": "code",
   "execution_count": 132,
   "id": "9123d024",
   "metadata": {},
   "outputs": [
    {
     "name": "stdout",
     "output_type": "stream",
     "text": [
      "0       5.566667\n",
      "1       5.350000\n",
      "2       9.391667\n",
      "3      10.058333\n",
      "4       4.116667\n",
      "         ...    \n",
      "195    11.241667\n",
      "196    11.716667\n",
      "197     9.633333\n",
      "198     6.658333\n",
      "199     5.995833\n",
      "Name: 1, Length: 200, dtype: float64\n"
     ]
    }
   ],
   "source": [
    "print(BTCvoldf[1])"
   ]
  },
  {
   "cell_type": "code",
   "execution_count": null,
   "id": "2098d6ee",
   "metadata": {},
   "outputs": [],
   "source": [
    "# GET ETH USD price API from CC"
   ]
  },
  {
   "cell_type": "code",
   "execution_count": 105,
   "id": "a6f705e0",
   "metadata": {},
   "outputs": [
    {
     "name": "stdout",
     "output_type": "stream",
     "text": [
      "200\n"
     ]
    }
   ],
   "source": [
    "response2 = requests.get(\"https://min-api.cryptocompare.com/data/v2/histoday?fsym=BTC&tsym=USD&limit=199&api_key=54373c4d26a268fe4c643f74be879a9565974c10d0780ca557b3313337ebe4df\")\n",
    "print(response2.status_code)"
   ]
  },
  {
   "cell_type": "code",
   "execution_count": null,
   "id": "c4c0b420",
   "metadata": {},
   "outputs": [],
   "source": [
    "# load JSON data into a var BTCprice"
   ]
  },
  {
   "cell_type": "code",
   "execution_count": 133,
   "id": "022c03e3",
   "metadata": {},
   "outputs": [
    {
     "name": "stdout",
     "output_type": "stream",
     "text": [
      "{'Response': 'Success', 'Message': '', 'HasWarning': False, 'Type': 100, 'RateLimit': {}, 'Data': {'Aggregated': False, 'TimeFrom': 1633478400, 'TimeTo': 1650672000, 'Data': [{'time': 1633478400, 'high': 55656.67, 'low': 50439.32, 'open': 51504.27, 'volumefrom': 64415.98, 'volumeto': 3444996109.53, 'close': 55345.85, 'conversionType': 'direct', 'conversionSymbol': ''}, {'time': 1633564800, 'high': 55359.77, 'low': 53391.93, 'open': 55343.24, 'volumefrom': 33806.76, 'volumeto': 1836529821.85, 'close': 53797.21, 'conversionType': 'direct', 'conversionSymbol': ''}, {'time': 1633651200, 'high': 56047.91, 'low': 53666.09, 'open': 53796.22, 'volumefrom': 29127.91, 'volumeto': 1592265868.06, 'close': 53949.29, 'conversionType': 'direct', 'conversionSymbol': ''}, {'time': 1633737600, 'high': 55485.2, 'low': 53696.32, 'open': 53949.29, 'volumefrom': 14593.95, 'volumeto': 799607238.61, 'close': 54968.04, 'conversionType': 'direct', 'conversionSymbol': ''}, {'time': 1633824000, 'high': 56473.63, 'low': 54131.52, 'open': 54968.04, 'volumefrom': 23094.98, 'volumeto': 1276001425.96, 'close': 54700.24, 'conversionType': 'direct', 'conversionSymbol': ''}, {'time': 1633910400, 'high': 57825.98, 'low': 54448.68, 'open': 54700.24, 'volumefrom': 31803.75, 'volumeto': 1805863526.52, 'close': 57498.8, 'conversionType': 'direct', 'conversionSymbol': ''}, {'time': 1633996800, 'high': 57646.93, 'low': 54098.22, 'open': 57498.8, 'volumefrom': 33966.65, 'volumeto': 1913353762.18, 'close': 56010.9, 'conversionType': 'direct', 'conversionSymbol': ''}, {'time': 1634083200, 'high': 57768.98, 'low': 54279.61, 'open': 56010.9, 'volumefrom': 34054.43, 'volumeto': 1906230334, 'close': 57369, 'conversionType': 'direct', 'conversionSymbol': ''}, {'time': 1634169600, 'high': 58514.76, 'low': 56854.38, 'open': 57369, 'volumefrom': 28061.61, 'volumeto': 1617497364.76, 'close': 57359.21, 'conversionType': 'direct', 'conversionSymbol': ''}, {'time': 1634256000, 'high': 62889.98, 'low': 56885.66, 'open': 57359.21, 'volumefrom': 62053.36, 'volumeto': 3737889743.83, 'close': 61684.96, 'conversionType': 'direct', 'conversionSymbol': ''}, {'time': 1634342400, 'high': 62341.46, 'low': 60153.79, 'open': 61684.96, 'volumefrom': 22943.96, 'volumeto': 1404879137.37, 'close': 60877.77, 'conversionType': 'direct', 'conversionSymbol': ''}, {'time': 1634428800, 'high': 61698.1, 'low': 59050.3, 'open': 60877.77, 'volumefrom': 23336.32, 'volumeto': 1414498881.98, 'close': 61520.54, 'conversionType': 'direct', 'conversionSymbol': ''}, {'time': 1634515200, 'high': 62662.72, 'low': 59925.93, 'open': 61520.54, 'volumefrom': 50489.09, 'volumeto': 3113486441.7, 'close': 62038.16, 'conversionType': 'direct', 'conversionSymbol': ''}, {'time': 1634601600, 'high': 64468.7, 'low': 61410.11, 'open': 62038.16, 'volumefrom': 42983.11, 'volumeto': 2706420467.09, 'close': 64283.97, 'conversionType': 'direct', 'conversionSymbol': ''}, {'time': 1634688000, 'high': 66980.66, 'low': 63543.7, 'open': 64283.97, 'volumefrom': 45364.94, 'volumeto': 2978059285.56, 'close': 66021.02, 'conversionType': 'direct', 'conversionSymbol': ''}, {'time': 1634774400, 'high': 66645.73, 'low': 62076.16, 'open': 66021.02, 'volumefrom': 62097.42, 'volumeto': 3962470063.85, 'close': 62283.96, 'conversionType': 'direct', 'conversionSymbol': ''}, {'time': 1634860800, 'high': 63731.17, 'low': 60017.23, 'open': 62283.96, 'volumefrom': 40476.42, 'volumeto': 2504718475.2, 'close': 60693.59, 'conversionType': 'direct', 'conversionSymbol': ''}, {'time': 1634947200, 'high': 61733.43, 'low': 59705.11, 'open': 60693.59, 'volumefrom': 16232.5, 'volumeto': 990360071.85, 'close': 61313.09, 'conversionType': 'direct', 'conversionSymbol': ''}, {'time': 1635033600, 'high': 61481.25, 'low': 59529.34, 'open': 61313.09, 'volumefrom': 19158.07, 'volumeto': 1158838824.68, 'close': 60863.56, 'conversionType': 'direct', 'conversionSymbol': ''}, {'time': 1635120000, 'high': 63709.97, 'low': 60658.35, 'open': 60863.56, 'volumefrom': 24693.91, 'volumeto': 1549308691.98, 'close': 63089.04, 'conversionType': 'direct', 'conversionSymbol': ''}, {'time': 1635206400, 'high': 63290.04, 'low': 59868.68, 'open': 63089.04, 'volumefrom': 28107.19, 'volumeto': 1738003094.57, 'close': 60315.68, 'conversionType': 'direct', 'conversionSymbol': ''}, {'time': 1635292800, 'high': 61473, 'low': 58128.18, 'open': 60315.68, 'volumefrom': 45852.35, 'volumeto': 2719093218.08, 'close': 58464.42, 'conversionType': 'direct', 'conversionSymbol': ''}, {'time': 1635379200, 'high': 62252.08, 'low': 58145.43, 'open': 58464.42, 'volumefrom': 51251.1, 'volumeto': 3090102767.38, 'close': 60610.11, 'conversionType': 'direct', 'conversionSymbol': ''}, {'time': 1635465600, 'high': 62967.45, 'low': 60269.97, 'open': 60610.11, 'volumefrom': 35214.62, 'volumeto': 2168021242.77, 'close': 62282.5, 'conversionType': 'direct', 'conversionSymbol': ''}, {'time': 1635552000, 'high': 62371.52, 'low': 60774.38, 'open': 62282.5, 'volumefrom': 15917.35, 'volumeto': 979987095.61, 'close': 61891.91, 'conversionType': 'direct', 'conversionSymbol': ''}, {'time': 1635638400, 'high': 62420.57, 'low': 60022.06, 'open': 61891.91, 'volumefrom': 19359.29, 'volumeto': 1181933822.61, 'close': 61349.75, 'conversionType': 'direct', 'conversionSymbol': ''}, {'time': 1635724800, 'high': 62482.31, 'low': 59554.88, 'open': 61349.75, 'volumefrom': 31925.65, 'volumeto': 1955088666.05, 'close': 60960.98, 'conversionType': 'direct', 'conversionSymbol': ''}, {'time': 1635811200, 'high': 64283.57, 'low': 60677.48, 'open': 60960.98, 'volumefrom': 36009.96, 'volumeto': 2260756044.28, 'close': 63260.05, 'conversionType': 'direct', 'conversionSymbol': ''}, {'time': 1635897600, 'high': 63553.52, 'low': 61057.89, 'open': 63260.05, 'volumefrom': 29618.09, 'volumeto': 1852233940.61, 'close': 62929.93, 'conversionType': 'direct', 'conversionSymbol': ''}, {'time': 1635984000, 'high': 63102.86, 'low': 60745.84, 'open': 62929.93, 'volumefrom': 23030.57, 'volumeto': 1420765190.91, 'close': 61448.47, 'conversionType': 'direct', 'conversionSymbol': ''}, {'time': 1636070400, 'high': 62621.97, 'low': 60789.16, 'open': 61448.47, 'volumefrom': 20540.56, 'volumeto': 1262030165.48, 'close': 61019.66, 'conversionType': 'direct', 'conversionSymbol': ''}, {'time': 1636156800, 'high': 61594.16, 'low': 60130.85, 'open': 61019.66, 'volumefrom': 15432.25, 'volumeto': 939530051.87, 'close': 61529.76, 'conversionType': 'direct', 'conversionSymbol': ''}, {'time': 1636243200, 'high': 63309.57, 'low': 61406.56, 'open': 61529.76, 'volumefrom': 14937.9, 'volumeto': 929571983.79, 'close': 63302.78, 'conversionType': 'direct', 'conversionSymbol': ''}, {'time': 1636329600, 'high': 67755.46, 'low': 63302.78, 'open': 63302.78, 'volumefrom': 39774.17, 'volumeto': 2614939972.01, 'close': 67549.14, 'conversionType': 'direct', 'conversionSymbol': ''}, {'time': 1636416000, 'high': 68514.26, 'low': 66312.42, 'open': 67549.14, 'volumefrom': 32745.53, 'volumeto': 2209551778.82, 'close': 66939.24, 'conversionType': 'direct', 'conversionSymbol': ''}, {'time': 1636502400, 'high': 68978.64, 'low': 63196.25, 'open': 66939.24, 'volumefrom': 50591.31, 'volumeto': 3365466815.36, 'close': 64926.06, 'conversionType': 'direct', 'conversionSymbol': ''}, {'time': 1636588800, 'high': 65585.68, 'low': 64130.37, 'open': 64926.06, 'volumefrom': 21475.67, 'volumeto': 1393819061.45, 'close': 64820.8, 'conversionType': 'direct', 'conversionSymbol': ''}, {'time': 1636675200, 'high': 65466, 'low': 62315.02, 'open': 64820.8, 'volumefrom': 32742.19, 'volumeto': 2090846686, 'close': 64156.3, 'conversionType': 'direct', 'conversionSymbol': ''}, {'time': 1636761600, 'high': 64967.34, 'low': 63406.98, 'open': 64156.3, 'volumefrom': 12719.98, 'volumeto': 815997863.99, 'close': 64409.56, 'conversionType': 'direct', 'conversionSymbol': ''}, {'time': 1636848000, 'high': 65509.06, 'low': 63616.33, 'open': 64409.56, 'volumefrom': 14680.72, 'volumeto': 947303706.23, 'close': 65509.06, 'conversionType': 'direct', 'conversionSymbol': ''}, {'time': 1636934400, 'high': 66335.42, 'low': 63442.58, 'open': 65509.06, 'volumefrom': 25263.23, 'volumeto': 1639253320.63, 'close': 63614.06, 'conversionType': 'direct', 'conversionSymbol': ''}, {'time': 1637020800, 'high': 63614.53, 'low': 58745.71, 'open': 63614.06, 'volumefrom': 61509.16, 'volumeto': 3740808475.72, 'close': 60108.9, 'conversionType': 'direct', 'conversionSymbol': ''}, {'time': 1637107200, 'high': 60837.09, 'low': 58566.05, 'open': 60108.9, 'volumefrom': 43164.9, 'volumeto': 2582737930.61, 'close': 60365.6, 'conversionType': 'direct', 'conversionSymbol': ''}, {'time': 1637193600, 'high': 60964.37, 'low': 56535.61, 'open': 60365.6, 'volumefrom': 63523.43, 'volumeto': 3718546724.95, 'close': 56930.68, 'conversionType': 'direct', 'conversionSymbol': ''}, {'time': 1637280000, 'high': 58403.92, 'low': 55655.03, 'open': 56930.68, 'volumefrom': 36833.38, 'volumeto': 2107344590.7, 'close': 58136.22, 'conversionType': 'direct', 'conversionSymbol': ''}, {'time': 1637366400, 'high': 59901.9, 'low': 57450.63, 'open': 58136.22, 'volumefrom': 16773.71, 'volumeto': 985075173.7, 'close': 59769.66, 'conversionType': 'direct', 'conversionSymbol': ''}, {'time': 1637452800, 'high': 60058.65, 'low': 58575.6, 'open': 59769.66, 'volumefrom': 14990.7, 'volumeto': 888045056.17, 'close': 58700.83, 'conversionType': 'direct', 'conversionSymbol': ''}, {'time': 1637539200, 'high': 59391.98, 'low': 55673.01, 'open': 58700.83, 'volumefrom': 41371.1, 'volumeto': 2371226089.18, 'close': 56303.06, 'conversionType': 'direct', 'conversionSymbol': ''}, {'time': 1637625600, 'high': 57873.77, 'low': 55485.59, 'open': 56303.06, 'volumefrom': 37871.22, 'volumeto': 2153848949.04, 'close': 57566.6, 'conversionType': 'direct', 'conversionSymbol': ''}, {'time': 1637712000, 'high': 57740.34, 'low': 55899.88, 'open': 57566.6, 'volumefrom': 28738.13, 'volumeto': 1630017073.7, 'close': 57175.09, 'conversionType': 'direct', 'conversionSymbol': ''}, {'time': 1637798400, 'high': 59437.04, 'low': 57056.64, 'open': 57175.09, 'volumefrom': 24221.47, 'volumeto': 1412787308.46, 'close': 58966.99, 'conversionType': 'direct', 'conversionSymbol': ''}, {'time': 1637884800, 'high': 59201.95, 'low': 53575.54, 'open': 58966.99, 'volumefrom': 60064.72, 'volumeto': 3312563227.95, 'close': 53788.22, 'conversionType': 'direct', 'conversionSymbol': ''}, {'time': 1637971200, 'high': 55316.65, 'low': 53668.95, 'open': 53788.22, 'volumefrom': 18504.73, 'volumeto': 1010585542.47, 'close': 54805.03, 'conversionType': 'direct', 'conversionSymbol': ''}, {'time': 1638057600, 'high': 57475.26, 'low': 53436.05, 'open': 54805.03, 'volumefrom': 21562.34, 'volumeto': 1186994646.57, 'close': 57331.41, 'conversionType': 'direct', 'conversionSymbol': ''}, {'time': 1638144000, 'high': 58898.57, 'low': 56752.37, 'open': 57331.41, 'volumefrom': 29291.8, 'volumeto': 1690005715.85, 'close': 57839.55, 'conversionType': 'direct', 'conversionSymbol': ''}, {'time': 1638230400, 'high': 59226.33, 'low': 55931.33, 'open': 57839.55, 'volumefrom': 41466.86, 'volumeto': 2383744473.31, 'close': 56975.35, 'conversionType': 'direct', 'conversionSymbol': ''}, {'time': 1638316800, 'high': 59096.53, 'low': 56505.99, 'open': 56975.35, 'volumefrom': 36078.24, 'volumeto': 2072824070.98, 'close': 57227.97, 'conversionType': 'direct', 'conversionSymbol': ''}, {'time': 1638403200, 'high': 57409.48, 'low': 55850.4, 'open': 57227.97, 'volumefrom': 30214.7, 'volumeto': 1712170975.38, 'close': 56522.76, 'conversionType': 'direct', 'conversionSymbol': ''}, {'time': 1638489600, 'high': 57639.15, 'low': 52493.23, 'open': 56522.76, 'volumefrom': 44903.19, 'volumeto': 2461497753.56, 'close': 53663.25, 'conversionType': 'direct', 'conversionSymbol': ''}, {'time': 1638576000, 'high': 53871.2, 'low': 43563.07, 'open': 53663.25, 'volumefrom': 89255.49, 'volumeto': 4315348557.56, 'close': 49243.39, 'conversionType': 'direct', 'conversionSymbol': ''}, {'time': 1638662400, 'high': 49764.31, 'low': 47840.63, 'open': 49243.39, 'volumefrom': 42264.26, 'volumeto': 2074283149.33, 'close': 49465.5, 'conversionType': 'direct', 'conversionSymbol': ''}, {'time': 1638748800, 'high': 50986.02, 'low': 47260.2, 'open': 49465.5, 'volumefrom': 49875.62, 'volumeto': 2437856119.9, 'close': 50552.83, 'conversionType': 'direct', 'conversionSymbol': ''}, {'time': 1638835200, 'high': 51953.27, 'low': 50083.33, 'open': 50552.83, 'volumefrom': 29306.55, 'volumeto': 1496164576.66, 'close': 50633.01, 'conversionType': 'direct', 'conversionSymbol': ''}, {'time': 1638921600, 'high': 51215.6, 'low': 48711.85, 'open': 50633.01, 'volumefrom': 25732.2, 'volumeto': 1290175070.3, 'close': 50513.04, 'conversionType': 'direct', 'conversionSymbol': ''}, {'time': 1639008000, 'high': 50829.41, 'low': 47347.73, 'open': 50513.04, 'volumefrom': 34472.44, 'volumeto': 1681556175.72, 'close': 47593.85, 'conversionType': 'direct', 'conversionSymbol': ''}, {'time': 1639094400, 'high': 50047.85, 'low': 46989.42, 'open': 47593.85, 'volumefrom': 39527.74, 'volumeto': 1905617871.17, 'close': 47191.14, 'conversionType': 'direct', 'conversionSymbol': ''}, {'time': 1639180800, 'high': 49504.07, 'low': 46829.85, 'open': 47191.14, 'volumefrom': 24394.48, 'volumeto': 1181186604.23, 'close': 49398.4, 'conversionType': 'direct', 'conversionSymbol': ''}, {'time': 1639267200, 'high': 50807.75, 'low': 48689.25, 'open': 49398.4, 'volumefrom': 21546.75, 'volumeto': 1072562349.4, 'close': 50109.99, 'conversionType': 'direct', 'conversionSymbol': ''}, {'time': 1639353600, 'high': 50215.42, 'low': 45800.52, 'open': 50109.99, 'volumefrom': 49444.13, 'volumeto': 2353893179.4, 'close': 46731.03, 'conversionType': 'direct', 'conversionSymbol': ''}, {'time': 1639440000, 'high': 48665.63, 'low': 46320.4, 'open': 46731.03, 'volumefrom': 34838.49, 'volumeto': 1646492085.28, 'close': 48387.69, 'conversionType': 'direct', 'conversionSymbol': ''}, {'time': 1639526400, 'high': 49499.91, 'low': 46562.1, 'open': 48387.69, 'volumefrom': 44270.94, 'volumeto': 2132679583.02, 'close': 48885.05, 'conversionType': 'direct', 'conversionSymbol': ''}, {'time': 1639612800, 'high': 49451.4, 'low': 47546.15, 'open': 48885.05, 'volumefrom': 26205.68, 'volumeto': 1271265804.99, 'close': 47635.92, 'conversionType': 'direct', 'conversionSymbol': ''}, {'time': 1639699200, 'high': 48004.37, 'low': 45505.02, 'open': 47635.92, 'volumefrom': 37546.89, 'volumeto': 1756062773.63, 'close': 46164.14, 'conversionType': 'direct', 'conversionSymbol': ''}, {'time': 1639785600, 'high': 47356.67, 'low': 45522.92, 'open': 46164.14, 'volumefrom': 18781.81, 'volumeto': 874187163.05, 'close': 46861.62, 'conversionType': 'direct', 'conversionSymbol': ''}, {'time': 1639872000, 'high': 48286.29, 'low': 46459.66, 'open': 46861.62, 'volumefrom': 21907.14, 'volumeto': 1035963939.83, 'close': 46697.13, 'conversionType': 'direct', 'conversionSymbol': ''}, {'time': 1639958400, 'high': 47495.72, 'low': 45586.49, 'open': 46697.13, 'volumefrom': 32678.5, 'volumeto': 1517599333.73, 'close': 46913.54, 'conversionType': 'direct', 'conversionSymbol': ''}, {'time': 1640044800, 'high': 49334.04, 'low': 46661.88, 'open': 46913.54, 'volumefrom': 31921.06, 'volumeto': 1546447524.57, 'close': 48917.48, 'conversionType': 'direct', 'conversionSymbol': ''}, {'time': 1640131200, 'high': 49581.41, 'low': 48460.43, 'open': 48917.48, 'volumefrom': 20998.03, 'volumeto': 1028434929.44, 'close': 48614.97, 'conversionType': 'direct', 'conversionSymbol': ''}, {'time': 1640217600, 'high': 51382.88, 'low': 48062.25, 'open': 48614.97, 'volumefrom': 30734.43, 'volumeto': 1525047125.27, 'close': 50830.2, 'conversionType': 'direct', 'conversionSymbol': ''}, {'time': 1640304000, 'high': 51863.56, 'low': 50449.36, 'open': 50830.2, 'volumefrom': 21669.58, 'volumeto': 1107244995.18, 'close': 50840.36, 'conversionType': 'direct', 'conversionSymbol': ''}, {'time': 1640390400, 'high': 51158.56, 'low': 50199.56, 'open': 50840.36, 'volumefrom': 11532.27, 'volumeto': 585818997.15, 'close': 50431.63, 'conversionType': 'direct', 'conversionSymbol': ''}, {'time': 1640476800, 'high': 51283.7, 'low': 49485.62, 'open': 50431.63, 'volumefrom': 14663.26, 'volumeto': 736617761.86, 'close': 50790.88, 'conversionType': 'direct', 'conversionSymbol': ''}, {'time': 1640563200, 'high': 52079.46, 'low': 50481.26, 'open': 50790.88, 'volumefrom': 21873.37, 'volumeto': 1120188136.96, 'close': 50714.73, 'conversionType': 'direct', 'conversionSymbol': ''}, {'time': 1640649600, 'high': 50718.53, 'low': 47317.78, 'open': 50714.73, 'volumefrom': 40699.4, 'volumeto': 1985905082.17, 'close': 47536.39, 'conversionType': 'direct', 'conversionSymbol': ''}, {'time': 1640736000, 'high': 48145.34, 'low': 46107.79, 'open': 47536.39, 'volumefrom': 33749.8, 'volumeto': 1599557104.64, 'close': 46471.7, 'conversionType': 'direct', 'conversionSymbol': ''}, {'time': 1640822400, 'high': 47917.89, 'low': 45964.28, 'open': 46471.7, 'volumefrom': 39311.18, 'volumeto': 1852206857.29, 'close': 47129.66, 'conversionType': 'direct', 'conversionSymbol': ''}, {'time': 1640908800, 'high': 48573.22, 'low': 45665.44, 'open': 47129.66, 'volumefrom': 34737.79, 'volumeto': 1636014399.31, 'close': 46197.31, 'conversionType': 'direct', 'conversionSymbol': ''}, {'time': 1640995200, 'high': 47950.29, 'low': 46196.03, 'open': 46197.31, 'volumefrom': 16697.92, 'volumeto': 786729972.03, 'close': 47737.35, 'conversionType': 'direct', 'conversionSymbol': ''}, {'time': 1641081600, 'high': 47979.26, 'low': 46666.18, 'open': 47737.35, 'volumefrom': 13025.66, 'volumeto': 615453426.93, 'close': 47306.41, 'conversionType': 'direct', 'conversionSymbol': ''}, {'time': 1641168000, 'high': 47572.23, 'low': 45707.55, 'open': 47306.41, 'volumefrom': 21681.38, 'volumeto': 1011309525.84, 'close': 46450.79, 'conversionType': 'direct', 'conversionSymbol': ''}, {'time': 1641254400, 'high': 47529.48, 'low': 45587.91, 'open': 46450.79, 'volumefrom': 29035.93, 'volumeto': 1349229422.84, 'close': 45824.54, 'conversionType': 'direct', 'conversionSymbol': ''}, {'time': 1641340800, 'high': 47067.18, 'low': 42510.86, 'open': 45824.54, 'volumefrom': 47769.2, 'volumeto': 2152187256.39, 'close': 43432.51, 'conversionType': 'direct', 'conversionSymbol': ''}, {'time': 1641427200, 'high': 43779.23, 'low': 42468.76, 'open': 43432.51, 'volumefrom': 36804.78, 'volumeto': 1585314774.47, 'close': 43094.54, 'conversionType': 'direct', 'conversionSymbol': ''}, {'time': 1641513600, 'high': 43138.79, 'low': 40750.42, 'open': 43094.54, 'volumefrom': 51310.46, 'volumeto': 2146452950.19, 'close': 41543.79, 'conversionType': 'direct', 'conversionSymbol': ''}, {'time': 1641600000, 'high': 42306.77, 'low': 40534.37, 'open': 41543.79, 'volumefrom': 27559.19, 'volumeto': 1143171232.86, 'close': 41686.67, 'conversionType': 'direct', 'conversionSymbol': ''}, {'time': 1641686400, 'high': 42800.66, 'low': 41237.13, 'open': 41686.67, 'volumefrom': 21486.68, 'volumeto': 901652458.82, 'close': 41869.6, 'conversionType': 'direct', 'conversionSymbol': ''}, {'time': 1641772800, 'high': 42251.07, 'low': 39667.6, 'open': 41869.6, 'volumefrom': 51976.97, 'volumeto': 2140270933.32, 'close': 41832.59, 'conversionType': 'direct', 'conversionSymbol': ''}, {'time': 1641859200, 'high': 43122.32, 'low': 41279.45, 'open': 41832.59, 'volumefrom': 36554.37, 'volumeto': 1545270650.68, 'close': 42743.03, 'conversionType': 'direct', 'conversionSymbol': ''}, {'time': 1641945600, 'high': 44293.83, 'low': 42471.08, 'open': 42743.03, 'volumefrom': 31859.05, 'volumeto': 1384575768.8, 'close': 43919.67, 'conversionType': 'direct', 'conversionSymbol': ''}, {'time': 1642032000, 'high': 44442.67, 'low': 42334.75, 'open': 43919.67, 'volumefrom': 29159.4, 'volumeto': 1263083590.1, 'close': 42575.61, 'conversionType': 'direct', 'conversionSymbol': ''}, {'time': 1642118400, 'high': 43467.05, 'low': 41785.44, 'open': 42575.61, 'volumefrom': 27290.3, 'volumeto': 1165100829.55, 'close': 43089.83, 'conversionType': 'direct', 'conversionSymbol': ''}, {'time': 1642204800, 'high': 43811.94, 'low': 42589.82, 'open': 43089.83, 'volumefrom': 14075.12, 'volumeto': 607715303.39, 'close': 43088.74, 'conversionType': 'direct', 'conversionSymbol': ''}, {'time': 1642291200, 'high': 43484.21, 'low': 42617.07, 'open': 43088.74, 'volumefrom': 12615.04, 'volumeto': 543620929.25, 'close': 43100.36, 'conversionType': 'direct', 'conversionSymbol': ''}, {'time': 1642377600, 'high': 43198.05, 'low': 41571.67, 'open': 43100.36, 'volumefrom': 20310.91, 'volumeto': 861459661.83, 'close': 42224.38, 'conversionType': 'direct', 'conversionSymbol': ''}, {'time': 1642464000, 'high': 42682.77, 'low': 41301.01, 'open': 42224.38, 'volumefrom': 26287.26, 'volumeto': 1099916846.37, 'close': 42372.75, 'conversionType': 'direct', 'conversionSymbol': ''}, {'time': 1642550400, 'high': 42575.28, 'low': 41144.83, 'open': 42372.75, 'volumefrom': 32436.62, 'volumeto': 1359832054.32, 'close': 41674.8, 'conversionType': 'direct', 'conversionSymbol': ''}, {'time': 1642636800, 'high': 43513.14, 'low': 40564.32, 'open': 41674.8, 'volumefrom': 35135.79, 'volumeto': 1482814889.83, 'close': 40697.03, 'conversionType': 'direct', 'conversionSymbol': ''}, {'time': 1642723200, 'high': 41116.66, 'low': 35494.42, 'open': 40697.03, 'volumefrom': 94195.63, 'volumeto': 3610621840.61, 'close': 36469.3, 'conversionType': 'direct', 'conversionSymbol': ''}, {'time': 1642809600, 'high': 36811.86, 'low': 34130.35, 'open': 36469.3, 'volumefrom': 68447.95, 'volumeto': 2419705021.17, 'close': 35075.92, 'conversionType': 'direct', 'conversionSymbol': ''}, {'time': 1642896000, 'high': 36539.19, 'low': 34648.38, 'open': 35075.92, 'volumefrom': 39599.36, 'volumeto': 1405386710.59, 'close': 36288.15, 'conversionType': 'direct', 'conversionSymbol': ''}, {'time': 1642982400, 'high': 37469.19, 'low': 32990.72, 'open': 36288.15, 'volumefrom': 94597.7, 'volumeto': 3289034581.3, 'close': 36702.79, 'conversionType': 'direct', 'conversionSymbol': ''}, {'time': 1643068800, 'high': 37555.35, 'low': 35732.05, 'open': 36702.79, 'volumefrom': 44562.17, 'volumeto': 1632275610.85, 'close': 36975.99, 'conversionType': 'direct', 'conversionSymbol': ''}, {'time': 1643155200, 'high': 38930.36, 'low': 36275.92, 'open': 36975.99, 'volumefrom': 57460, 'volumeto': 2163384356.61, 'close': 36829.37, 'conversionType': 'direct', 'conversionSymbol': ''}, {'time': 1643241600, 'high': 37242.79, 'low': 35543.94, 'open': 36829.37, 'volumefrom': 46006.99, 'volumeto': 1671118834.49, 'close': 37189.85, 'conversionType': 'direct', 'conversionSymbol': ''}, {'time': 1643328000, 'high': 38021.06, 'low': 36176.78, 'open': 37189.85, 'volumefrom': 38853.31, 'volumeto': 1439590445.61, 'close': 37744.7, 'conversionType': 'direct', 'conversionSymbol': ''}, {'time': 1643414400, 'high': 38728.29, 'low': 37343.45, 'open': 37744.7, 'volumefrom': 24097.29, 'volumeto': 913551592.58, 'close': 38184.86, 'conversionType': 'direct', 'conversionSymbol': ''}, {'time': 1643500800, 'high': 38364.51, 'low': 37377.53, 'open': 38184.86, 'volumefrom': 17354.8, 'volumeto': 658154943.17, 'close': 37908.44, 'conversionType': 'direct', 'conversionSymbol': ''}, {'time': 1643587200, 'high': 38769.81, 'low': 36660.7, 'open': 37908.44, 'volumefrom': 34716.41, 'volumeto': 1310842543.43, 'close': 38494.66, 'conversionType': 'direct', 'conversionSymbol': ''}, {'time': 1643673600, 'high': 39281.06, 'low': 38033.98, 'open': 38494.66, 'volumefrom': 32504.03, 'volumeto': 1255765239.87, 'close': 38721.49, 'conversionType': 'direct', 'conversionSymbol': ''}, {'time': 1643760000, 'high': 38883.19, 'low': 36650.8, 'open': 38721.49, 'volumefrom': 29144.5, 'volumeto': 1099971099.08, 'close': 36918.19, 'conversionType': 'direct', 'conversionSymbol': ''}, {'time': 1643846400, 'high': 37411.52, 'low': 36270.47, 'open': 36918.19, 'volumefrom': 27541.76, 'volumeto': 1012101574.73, 'close': 37328.64, 'conversionType': 'direct', 'conversionSymbol': ''}, {'time': 1643932800, 'high': 41737.83, 'low': 37060.18, 'open': 37328.64, 'volumefrom': 50443.53, 'volumeto': 1978064223.39, 'close': 41590.34, 'conversionType': 'direct', 'conversionSymbol': ''}, {'time': 1644019200, 'high': 41954.24, 'low': 40963.47, 'open': 41590.34, 'volumefrom': 22244.16, 'volumeto': 923755180.09, 'close': 41418.21, 'conversionType': 'direct', 'conversionSymbol': ''}, {'time': 1644105600, 'high': 42671.81, 'low': 41152.05, 'open': 41418.21, 'volumefrom': 14391.14, 'volumeto': 600848486.11, 'close': 42412.41, 'conversionType': 'direct', 'conversionSymbol': ''}, {'time': 1644192000, 'high': 44518.11, 'low': 41689.77, 'open': 42412.41, 'volumefrom': 42425.21, 'volumeto': 1836978530.57, 'close': 43861.07, 'conversionType': 'direct', 'conversionSymbol': ''}, {'time': 1644278400, 'high': 45483.65, 'low': 42704.39, 'open': 43861.07, 'volumefrom': 44964.2, 'volumeto': 1972336800.82, 'close': 44080.12, 'conversionType': 'direct', 'conversionSymbol': ''}, {'time': 1644364800, 'high': 44849.9, 'low': 43167.21, 'open': 44080.12, 'volumefrom': 27461.26, 'volumeto': 1207982275.77, 'close': 44422.91, 'conversionType': 'direct', 'conversionSymbol': ''}, {'time': 1644451200, 'high': 45837.02, 'low': 43254.41, 'open': 44422.91, 'volumefrom': 45532.09, 'volumeto': 2027452816.67, 'close': 43531.67, 'conversionType': 'direct', 'conversionSymbol': ''}, {'time': 1644537600, 'high': 43950.88, 'low': 42010.61, 'open': 43531.67, 'volumefrom': 39322.02, 'volumeto': 1694547021.08, 'close': 42398.98, 'conversionType': 'direct', 'conversionSymbol': ''}, {'time': 1644624000, 'high': 43041.72, 'low': 41775.79, 'open': 42398.98, 'volumefrom': 17662.13, 'volumeto': 747480841.84, 'close': 42239.01, 'conversionType': 'direct', 'conversionSymbol': ''}, {'time': 1644710400, 'high': 42773.35, 'low': 41900.31, 'open': 42239.01, 'volumefrom': 12420.62, 'volumeto': 525779246, 'close': 42069.84, 'conversionType': 'direct', 'conversionSymbol': ''}, {'time': 1644796800, 'high': 42857.15, 'low': 41581.41, 'open': 42069.84, 'volumefrom': 27975.8, 'volumeto': 1183004344.86, 'close': 42552.28, 'conversionType': 'direct', 'conversionSymbol': ''}, {'time': 1644883200, 'high': 44771.91, 'low': 42452.02, 'open': 42552.28, 'volumefrom': 27548.28, 'volumeto': 1210638166.2, 'close': 44576.33, 'conversionType': 'direct', 'conversionSymbol': ''}, {'time': 1644969600, 'high': 44583.03, 'low': 43361.09, 'open': 44576.33, 'volumefrom': 20597.85, 'volumeto': 905511530.54, 'close': 43896.34, 'conversionType': 'direct', 'conversionSymbol': ''}, {'time': 1645056000, 'high': 44187.88, 'low': 40104.04, 'open': 43896.34, 'volumefrom': 39645.29, 'volumeto': 1669164372.28, 'close': 40545.09, 'conversionType': 'direct', 'conversionSymbol': ''}, {'time': 1645142400, 'high': 40980.65, 'low': 39496.7, 'open': 40545.09, 'volumefrom': 32514.79, 'volumeto': 1308787736.51, 'close': 39994.66, 'conversionType': 'direct', 'conversionSymbol': ''}, {'time': 1645228800, 'high': 40464.62, 'low': 39664.71, 'open': 39994.66, 'volumefrom': 11674.81, 'volumeto': 467744109.72, 'close': 40107.12, 'conversionType': 'direct', 'conversionSymbol': ''}, {'time': 1645315200, 'high': 40142.98, 'low': 38019.97, 'open': 40107.12, 'volumefrom': 23028.66, 'volumeto': 890707081.68, 'close': 38397.25, 'conversionType': 'direct', 'conversionSymbol': ''}, {'time': 1645401600, 'high': 39495.33, 'low': 36862.52, 'open': 38397.25, 'volumefrom': 47549.32, 'volumeto': 1819938918.66, 'close': 37037.39, 'conversionType': 'direct', 'conversionSymbol': ''}, {'time': 1645488000, 'high': 38458.26, 'low': 36371.68, 'open': 37037.39, 'volumefrom': 42886.39, 'volumeto': 1605539398.15, 'close': 38267.75, 'conversionType': 'direct', 'conversionSymbol': ''}, {'time': 1645574400, 'high': 39260.51, 'low': 37083.83, 'open': 38267.75, 'volumefrom': 31850.78, 'volumeto': 1218156854.61, 'close': 37270.85, 'conversionType': 'direct', 'conversionSymbol': ''}, {'time': 1645660800, 'high': 39182.44, 'low': 34349.58, 'open': 37270.85, 'volumefrom': 93348.71, 'volumeto': 3367553842.97, 'close': 38353.62, 'conversionType': 'direct', 'conversionSymbol': ''}, {'time': 1645747200, 'high': 39710.26, 'low': 38043.51, 'open': 38353.62, 'volumefrom': 39454.29, 'volumeto': 1536575836.24, 'close': 39239.77, 'conversionType': 'direct', 'conversionSymbol': ''}, {'time': 1645833600, 'high': 40228.13, 'low': 38605.65, 'open': 39239.77, 'volumefrom': 18649.99, 'volumeto': 732995982.54, 'close': 39134.83, 'conversionType': 'direct', 'conversionSymbol': ''}, {'time': 1645920000, 'high': 39861.91, 'low': 37039.71, 'open': 39134.83, 'volumefrom': 30834.07, 'volumeto': 1184510440.64, 'close': 37714.96, 'conversionType': 'direct', 'conversionSymbol': ''}, {'time': 1646006400, 'high': 43953.92, 'low': 37473.3, 'open': 37714.96, 'volumefrom': 55323.43, 'volumeto': 2231772118.95, 'close': 43189.46, 'conversionType': 'direct', 'conversionSymbol': ''}, {'time': 1646092800, 'high': 44883.1, 'low': 42893.5, 'open': 43189.46, 'volumefrom': 48462.11, 'volumeto': 2121207162.06, 'close': 44428.47, 'conversionType': 'direct', 'conversionSymbol': ''}, {'time': 1646179200, 'high': 45069.78, 'low': 43387.92, 'open': 44428.47, 'volumefrom': 37389.51, 'volumeto': 1652867992.22, 'close': 43935.37, 'conversionType': 'direct', 'conversionSymbol': ''}, {'time': 1646265600, 'high': 44079.17, 'low': 41852.46, 'open': 43935.37, 'volumefrom': 36512.65, 'volumeto': 1565020513.9, 'close': 42474.37, 'conversionType': 'direct', 'conversionSymbol': ''}, {'time': 1646352000, 'high': 42520.95, 'low': 38621.24, 'open': 42474.37, 'volumefrom': 50126.39, 'volumeto': 2043287977.87, 'close': 39154.4, 'conversionType': 'direct', 'conversionSymbol': ''}, {'time': 1646438400, 'high': 39596.42, 'low': 38652.98, 'open': 39154.4, 'volumefrom': 15938.79, 'volumeto': 624289503.91, 'close': 39407.02, 'conversionType': 'direct', 'conversionSymbol': ''}, {'time': 1646524800, 'high': 39686.74, 'low': 38133.84, 'open': 39407.02, 'volumefrom': 21034.62, 'volumeto': 818379145.11, 'close': 38428.92, 'conversionType': 'direct', 'conversionSymbol': ''}, {'time': 1646611200, 'high': 39536.14, 'low': 37191.99, 'open': 38428.92, 'volumefrom': 40474.56, 'volumeto': 1547870219.6, 'close': 38030.63, 'conversionType': 'direct', 'conversionSymbol': ''}, {'time': 1646697600, 'high': 39361.33, 'low': 37905.43, 'open': 38030.63, 'volumefrom': 35521.85, 'volumeto': 1373819361.89, 'close': 38748.52, 'conversionType': 'direct', 'conversionSymbol': ''}, {'time': 1646784000, 'high': 42557.95, 'low': 38685.96, 'open': 38748.52, 'volumefrom': 47211.82, 'volumeto': 1960521974.24, 'close': 41962.85, 'conversionType': 'direct', 'conversionSymbol': ''}, {'time': 1646870400, 'high': 42043.56, 'low': 38853.45, 'open': 41962.85, 'volumefrom': 42472.49, 'volumeto': 1683595949.7, 'close': 39443.42, 'conversionType': 'direct', 'conversionSymbol': ''}, {'time': 1646956800, 'high': 40221.93, 'low': 38261.24, 'open': 39443.42, 'volumefrom': 39197.4, 'volumeto': 1527385235.35, 'close': 38741.03, 'conversionType': 'direct', 'conversionSymbol': ''}, {'time': 1647043200, 'high': 39414.02, 'low': 38696.52, 'open': 38741.03, 'volumefrom': 11886.69, 'volumeto': 464694957.41, 'close': 38805.53, 'conversionType': 'direct', 'conversionSymbol': ''}, {'time': 1647129600, 'high': 39254.88, 'low': 37633.11, 'open': 38805.53, 'volumefrom': 17796.13, 'volumeto': 687723583.56, 'close': 37796.31, 'conversionType': 'direct', 'conversionSymbol': ''}, {'time': 1647216000, 'high': 39802.89, 'low': 37566.52, 'open': 37796.31, 'volumefrom': 32100.73, 'volumeto': 1245884221.15, 'close': 39696.28, 'conversionType': 'direct', 'conversionSymbol': ''}, {'time': 1647302400, 'high': 39863.78, 'low': 38259.88, 'open': 39696.28, 'volumefrom': 30642.09, 'volumeto': 1196862773.71, 'close': 39314.86, 'conversionType': 'direct', 'conversionSymbol': ''}, {'time': 1647388800, 'high': 41638.54, 'low': 38933.24, 'open': 39314.86, 'volumefrom': 54967.36, 'volumeto': 2217384588.25, 'close': 41133.64, 'conversionType': 'direct', 'conversionSymbol': ''}, {'time': 1647475200, 'high': 41441.08, 'low': 40581.36, 'open': 41133.64, 'volumefrom': 18001.83, 'volumeto': 736387236.02, 'close': 40956.79, 'conversionType': 'direct', 'conversionSymbol': ''}, {'time': 1647561600, 'high': 42250.94, 'low': 40230.1, 'open': 40956.79, 'volumefrom': 31863.74, 'volumeto': 1310605069.99, 'close': 41790.97, 'conversionType': 'direct', 'conversionSymbol': ''}, {'time': 1647648000, 'high': 42367.55, 'low': 41549.61, 'open': 41790.97, 'volumefrom': 15244.76, 'volumeto': 638860853.99, 'close': 42235.02, 'conversionType': 'direct', 'conversionSymbol': ''}, {'time': 1647734400, 'high': 42297.3, 'low': 40979.25, 'open': 42235.02, 'volumefrom': 15580.67, 'volumeto': 647551620.15, 'close': 41243.16, 'conversionType': 'direct', 'conversionSymbol': ''}, {'time': 1647820800, 'high': 41510.03, 'low': 40555.57, 'open': 41243.16, 'volumefrom': 21865.63, 'volumeto': 897693606.33, 'close': 41043.9, 'conversionType': 'direct', 'conversionSymbol': ''}, {'time': 1647907200, 'high': 43287.39, 'low': 40923.9, 'open': 41043.9, 'volumefrom': 37636.83, 'volumeto': 1597913842.6, 'close': 42380.11, 'conversionType': 'direct', 'conversionSymbol': ''}, {'time': 1647993600, 'high': 43021.74, 'low': 41806.4, 'open': 42380.11, 'volumefrom': 26406.13, 'volumeto': 1116852856.74, 'close': 42904.1, 'conversionType': 'direct', 'conversionSymbol': ''}, {'time': 1648080000, 'high': 44230.66, 'low': 42653.71, 'open': 42904.1, 'volumefrom': 34879.48, 'volumeto': 1514036890.73, 'close': 44006.77, 'conversionType': 'direct', 'conversionSymbol': ''}, {'time': 1648166400, 'high': 45112.71, 'low': 43629.05, 'open': 44006.77, 'volumefrom': 34465.44, 'volumeto': 1529847572.88, 'close': 44331.36, 'conversionType': 'direct', 'conversionSymbol': ''}, {'time': 1648252800, 'high': 44811.3, 'low': 44108.04, 'open': 44331.36, 'volumefrom': 11559.16, 'volumeto': 513402297.27, 'close': 44542.31, 'conversionType': 'direct', 'conversionSymbol': ''}, {'time': 1648339200, 'high': 46896.6, 'low': 44449.41, 'open': 44542.31, 'volumefrom': 22676.91, 'volumeto': 1035071605.98, 'close': 46842.14, 'conversionType': 'direct', 'conversionSymbol': ''}, {'time': 1648425600, 'high': 48208.48, 'low': 46669.19, 'open': 46842.14, 'volumefrom': 35796.78, 'volumeto': 1697234773.76, 'close': 47128.71, 'conversionType': 'direct', 'conversionSymbol': ''}, {'time': 1648512000, 'high': 48054.67, 'low': 47018.87, 'open': 47128.71, 'volumefrom': 27820.54, 'volumeto': 1324122253.95, 'close': 47445.3, 'conversionType': 'direct', 'conversionSymbol': ''}, {'time': 1648598400, 'high': 47690.62, 'low': 46606.97, 'open': 47445.3, 'volumefrom': 24550.14, 'volumeto': 1158606188.62, 'close': 47056.41, 'conversionType': 'direct', 'conversionSymbol': ''}, {'time': 1648684800, 'high': 47599.87, 'low': 45220.41, 'open': 47056.41, 'volumefrom': 29105.61, 'volumeto': 1350600519.47, 'close': 45522.65, 'conversionType': 'direct', 'conversionSymbol': ''}, {'time': 1648771200, 'high': 46726.2, 'low': 44256.66, 'open': 45522.65, 'volumefrom': 34247.82, 'volumeto': 1558891962.07, 'close': 46299.75, 'conversionType': 'direct', 'conversionSymbol': ''}, {'time': 1648857600, 'high': 47208.84, 'low': 45655.15, 'open': 46299.75, 'volumefrom': 16494.27, 'volumeto': 765849775.02, 'close': 45822.28, 'conversionType': 'direct', 'conversionSymbol': ''}, {'time': 1648944000, 'high': 47432.6, 'low': 45565.57, 'open': 45822.28, 'volumefrom': 17415.21, 'volumeto': 809819360.86, 'close': 46414.26, 'conversionType': 'direct', 'conversionSymbol': ''}, {'time': 1649030400, 'high': 46893.71, 'low': 45136.03, 'open': 46414.26, 'volumefrom': 24886.34, 'volumeto': 1145480471.77, 'close': 46609.36, 'conversionType': 'direct', 'conversionSymbol': ''}, {'time': 1649116800, 'high': 47187.66, 'low': 45382.83, 'open': 46609.36, 'volumefrom': 24206.2, 'volumeto': 1118296319.71, 'close': 45501.58, 'conversionType': 'direct', 'conversionSymbol': ''}, {'time': 1649203200, 'high': 45518.32, 'low': 43129.76, 'open': 45501.58, 'volumefrom': 43268.81, 'volumeto': 1918395755.34, 'close': 43177.78, 'conversionType': 'direct', 'conversionSymbol': ''}, {'time': 1649289600, 'high': 43894.7, 'low': 42766.45, 'open': 43177.78, 'volumefrom': 22801.41, 'volumeto': 989892880.8, 'close': 43466.21, 'conversionType': 'direct', 'conversionSymbol': ''}, {'time': 1649376000, 'high': 43982.39, 'low': 42123.42, 'open': 43466.21, 'volumefrom': 25455.2, 'volumeto': 1098738940.21, 'close': 42273.38, 'conversionType': 'direct', 'conversionSymbol': ''}, {'time': 1649462400, 'high': 42813.04, 'low': 42136.04, 'open': 42273.38, 'volumefrom': 9050.96, 'volumeto': 384171498.87, 'close': 42768.61, 'conversionType': 'direct', 'conversionSymbol': ''}, {'time': 1649548800, 'high': 43442.48, 'low': 41921.59, 'open': 42768.61, 'volumefrom': 12859.53, 'volumeto': 549311405.43, 'close': 42153.77, 'conversionType': 'direct', 'conversionSymbol': ''}, {'time': 1649635200, 'high': 42422.86, 'low': 39229.4, 'open': 42153.77, 'volumefrom': 34885.37, 'volumeto': 1423397890.93, 'close': 39536.71, 'conversionType': 'direct', 'conversionSymbol': ''}, {'time': 1649721600, 'high': 40673.93, 'low': 39266.86, 'open': 39536.71, 'volumefrom': 27198.43, 'volumeto': 1087667635.69, 'close': 40086.66, 'conversionType': 'direct', 'conversionSymbol': ''}, {'time': 1649808000, 'high': 41538.17, 'low': 39591.74, 'open': 40086.66, 'volumefrom': 24390.05, 'volumeto': 990022174.31, 'close': 41150.33, 'conversionType': 'direct', 'conversionSymbol': ''}, {'time': 1649894400, 'high': 41503.56, 'low': 39587.14, 'open': 41150.33, 'volumefrom': 21473.52, 'volumeto': 870654332.34, 'close': 39951.63, 'conversionType': 'direct', 'conversionSymbol': ''}, {'time': 1649980800, 'high': 40800.76, 'low': 39779.2, 'open': 39951.63, 'volumefrom': 13944.94, 'volumeto': 561514975.78, 'close': 40563.69, 'conversionType': 'direct', 'conversionSymbol': ''}, {'time': 1650067200, 'high': 40698.01, 'low': 40019.08, 'open': 40563.69, 'volumefrom': 7771.05, 'volumeto': 313875941.14, 'close': 40392.55, 'conversionType': 'direct', 'conversionSymbol': ''}, {'time': 1650153600, 'high': 40602.63, 'low': 39563.9, 'open': 40392.55, 'volumefrom': 9701.08, 'volumeto': 389893199.53, 'close': 39688.16, 'conversionType': 'direct', 'conversionSymbol': ''}, {'time': 1650240000, 'high': 41096.46, 'low': 38569.14, 'open': 39688.16, 'volumefrom': 27721.5, 'volumeto': 1101204133.54, 'close': 40811.03, 'conversionType': 'direct', 'conversionSymbol': ''}, {'time': 1650326400, 'high': 41755.93, 'low': 40588.12, 'open': 40811.03, 'volumefrom': 18644.77, 'volumeto': 768239204.72, 'close': 41504.44, 'conversionType': 'direct', 'conversionSymbol': ''}, {'time': 1650412800, 'high': 42208.1, 'low': 40919.04, 'open': 41504.44, 'volumefrom': 25834.31, 'volumeto': 1072814871.19, 'close': 41375.35, 'conversionType': 'direct', 'conversionSymbol': ''}, {'time': 1650499200, 'high': 42996.5, 'low': 39864.73, 'open': 41375.35, 'volumefrom': 31792.3, 'volumeto': 1324052657.83, 'close': 40490.97, 'conversionType': 'direct', 'conversionSymbol': ''}, {'time': 1650585600, 'high': 40794.73, 'low': 39190.22, 'open': 40490.97, 'volumefrom': 28863.91, 'volumeto': 1154693915.31, 'close': 39716.04, 'conversionType': 'direct', 'conversionSymbol': ''}, {'time': 1650672000, 'high': 39865.41, 'low': 39567.21, 'open': 39716.04, 'volumefrom': 831.01, 'volumeto': 32959936.32, 'close': 39592.47, 'conversionType': 'direct', 'conversionSymbol': ''}]}}\n"
     ]
    }
   ],
   "source": [
    "BTCprice = json.loads(response2.text)\n",
    "print(BTCprice)"
   ]
  },
  {
   "cell_type": "code",
   "execution_count": null,
   "id": "5c00d119",
   "metadata": {},
   "outputs": [],
   "source": [
    "# Keywords to get into JSON nest"
   ]
  },
  {
   "cell_type": "code",
   "execution_count": 23,
   "id": "90289602",
   "metadata": {},
   "outputs": [
    {
     "name": "stdout",
     "output_type": "stream",
     "text": [
      "Inpection Level 1 \n",
      "\n",
      " dict_keys(['Response', 'Message', 'HasWarning', 'Type', 'RateLimit', 'Data'])\n"
     ]
    }
   ],
   "source": [
    "print('Inpection Level 1 \\n\\n', BTCprice.keys())"
   ]
  },
  {
   "cell_type": "code",
   "execution_count": 90,
   "id": "4142efd4",
   "metadata": {},
   "outputs": [],
   "source": [
    "# The date and closing prices for BTC is inside the data array and so we rewrite the BTCprice variable "
   ]
  },
  {
   "cell_type": "code",
   "execution_count": 134,
   "id": "14f9aec3",
   "metadata": {},
   "outputs": [
    {
     "name": "stdout",
     "output_type": "stream",
     "text": [
      "{'Aggregated': False, 'TimeFrom': 1633478400, 'TimeTo': 1650672000, 'Data': [{'time': 1633478400, 'high': 55656.67, 'low': 50439.32, 'open': 51504.27, 'volumefrom': 64415.98, 'volumeto': 3444996109.53, 'close': 55345.85, 'conversionType': 'direct', 'conversionSymbol': ''}, {'time': 1633564800, 'high': 55359.77, 'low': 53391.93, 'open': 55343.24, 'volumefrom': 33806.76, 'volumeto': 1836529821.85, 'close': 53797.21, 'conversionType': 'direct', 'conversionSymbol': ''}, {'time': 1633651200, 'high': 56047.91, 'low': 53666.09, 'open': 53796.22, 'volumefrom': 29127.91, 'volumeto': 1592265868.06, 'close': 53949.29, 'conversionType': 'direct', 'conversionSymbol': ''}, {'time': 1633737600, 'high': 55485.2, 'low': 53696.32, 'open': 53949.29, 'volumefrom': 14593.95, 'volumeto': 799607238.61, 'close': 54968.04, 'conversionType': 'direct', 'conversionSymbol': ''}, {'time': 1633824000, 'high': 56473.63, 'low': 54131.52, 'open': 54968.04, 'volumefrom': 23094.98, 'volumeto': 1276001425.96, 'close': 54700.24, 'conversionType': 'direct', 'conversionSymbol': ''}, {'time': 1633910400, 'high': 57825.98, 'low': 54448.68, 'open': 54700.24, 'volumefrom': 31803.75, 'volumeto': 1805863526.52, 'close': 57498.8, 'conversionType': 'direct', 'conversionSymbol': ''}, {'time': 1633996800, 'high': 57646.93, 'low': 54098.22, 'open': 57498.8, 'volumefrom': 33966.65, 'volumeto': 1913353762.18, 'close': 56010.9, 'conversionType': 'direct', 'conversionSymbol': ''}, {'time': 1634083200, 'high': 57768.98, 'low': 54279.61, 'open': 56010.9, 'volumefrom': 34054.43, 'volumeto': 1906230334, 'close': 57369, 'conversionType': 'direct', 'conversionSymbol': ''}, {'time': 1634169600, 'high': 58514.76, 'low': 56854.38, 'open': 57369, 'volumefrom': 28061.61, 'volumeto': 1617497364.76, 'close': 57359.21, 'conversionType': 'direct', 'conversionSymbol': ''}, {'time': 1634256000, 'high': 62889.98, 'low': 56885.66, 'open': 57359.21, 'volumefrom': 62053.36, 'volumeto': 3737889743.83, 'close': 61684.96, 'conversionType': 'direct', 'conversionSymbol': ''}, {'time': 1634342400, 'high': 62341.46, 'low': 60153.79, 'open': 61684.96, 'volumefrom': 22943.96, 'volumeto': 1404879137.37, 'close': 60877.77, 'conversionType': 'direct', 'conversionSymbol': ''}, {'time': 1634428800, 'high': 61698.1, 'low': 59050.3, 'open': 60877.77, 'volumefrom': 23336.32, 'volumeto': 1414498881.98, 'close': 61520.54, 'conversionType': 'direct', 'conversionSymbol': ''}, {'time': 1634515200, 'high': 62662.72, 'low': 59925.93, 'open': 61520.54, 'volumefrom': 50489.09, 'volumeto': 3113486441.7, 'close': 62038.16, 'conversionType': 'direct', 'conversionSymbol': ''}, {'time': 1634601600, 'high': 64468.7, 'low': 61410.11, 'open': 62038.16, 'volumefrom': 42983.11, 'volumeto': 2706420467.09, 'close': 64283.97, 'conversionType': 'direct', 'conversionSymbol': ''}, {'time': 1634688000, 'high': 66980.66, 'low': 63543.7, 'open': 64283.97, 'volumefrom': 45364.94, 'volumeto': 2978059285.56, 'close': 66021.02, 'conversionType': 'direct', 'conversionSymbol': ''}, {'time': 1634774400, 'high': 66645.73, 'low': 62076.16, 'open': 66021.02, 'volumefrom': 62097.42, 'volumeto': 3962470063.85, 'close': 62283.96, 'conversionType': 'direct', 'conversionSymbol': ''}, {'time': 1634860800, 'high': 63731.17, 'low': 60017.23, 'open': 62283.96, 'volumefrom': 40476.42, 'volumeto': 2504718475.2, 'close': 60693.59, 'conversionType': 'direct', 'conversionSymbol': ''}, {'time': 1634947200, 'high': 61733.43, 'low': 59705.11, 'open': 60693.59, 'volumefrom': 16232.5, 'volumeto': 990360071.85, 'close': 61313.09, 'conversionType': 'direct', 'conversionSymbol': ''}, {'time': 1635033600, 'high': 61481.25, 'low': 59529.34, 'open': 61313.09, 'volumefrom': 19158.07, 'volumeto': 1158838824.68, 'close': 60863.56, 'conversionType': 'direct', 'conversionSymbol': ''}, {'time': 1635120000, 'high': 63709.97, 'low': 60658.35, 'open': 60863.56, 'volumefrom': 24693.91, 'volumeto': 1549308691.98, 'close': 63089.04, 'conversionType': 'direct', 'conversionSymbol': ''}, {'time': 1635206400, 'high': 63290.04, 'low': 59868.68, 'open': 63089.04, 'volumefrom': 28107.19, 'volumeto': 1738003094.57, 'close': 60315.68, 'conversionType': 'direct', 'conversionSymbol': ''}, {'time': 1635292800, 'high': 61473, 'low': 58128.18, 'open': 60315.68, 'volumefrom': 45852.35, 'volumeto': 2719093218.08, 'close': 58464.42, 'conversionType': 'direct', 'conversionSymbol': ''}, {'time': 1635379200, 'high': 62252.08, 'low': 58145.43, 'open': 58464.42, 'volumefrom': 51251.1, 'volumeto': 3090102767.38, 'close': 60610.11, 'conversionType': 'direct', 'conversionSymbol': ''}, {'time': 1635465600, 'high': 62967.45, 'low': 60269.97, 'open': 60610.11, 'volumefrom': 35214.62, 'volumeto': 2168021242.77, 'close': 62282.5, 'conversionType': 'direct', 'conversionSymbol': ''}, {'time': 1635552000, 'high': 62371.52, 'low': 60774.38, 'open': 62282.5, 'volumefrom': 15917.35, 'volumeto': 979987095.61, 'close': 61891.91, 'conversionType': 'direct', 'conversionSymbol': ''}, {'time': 1635638400, 'high': 62420.57, 'low': 60022.06, 'open': 61891.91, 'volumefrom': 19359.29, 'volumeto': 1181933822.61, 'close': 61349.75, 'conversionType': 'direct', 'conversionSymbol': ''}, {'time': 1635724800, 'high': 62482.31, 'low': 59554.88, 'open': 61349.75, 'volumefrom': 31925.65, 'volumeto': 1955088666.05, 'close': 60960.98, 'conversionType': 'direct', 'conversionSymbol': ''}, {'time': 1635811200, 'high': 64283.57, 'low': 60677.48, 'open': 60960.98, 'volumefrom': 36009.96, 'volumeto': 2260756044.28, 'close': 63260.05, 'conversionType': 'direct', 'conversionSymbol': ''}, {'time': 1635897600, 'high': 63553.52, 'low': 61057.89, 'open': 63260.05, 'volumefrom': 29618.09, 'volumeto': 1852233940.61, 'close': 62929.93, 'conversionType': 'direct', 'conversionSymbol': ''}, {'time': 1635984000, 'high': 63102.86, 'low': 60745.84, 'open': 62929.93, 'volumefrom': 23030.57, 'volumeto': 1420765190.91, 'close': 61448.47, 'conversionType': 'direct', 'conversionSymbol': ''}, {'time': 1636070400, 'high': 62621.97, 'low': 60789.16, 'open': 61448.47, 'volumefrom': 20540.56, 'volumeto': 1262030165.48, 'close': 61019.66, 'conversionType': 'direct', 'conversionSymbol': ''}, {'time': 1636156800, 'high': 61594.16, 'low': 60130.85, 'open': 61019.66, 'volumefrom': 15432.25, 'volumeto': 939530051.87, 'close': 61529.76, 'conversionType': 'direct', 'conversionSymbol': ''}, {'time': 1636243200, 'high': 63309.57, 'low': 61406.56, 'open': 61529.76, 'volumefrom': 14937.9, 'volumeto': 929571983.79, 'close': 63302.78, 'conversionType': 'direct', 'conversionSymbol': ''}, {'time': 1636329600, 'high': 67755.46, 'low': 63302.78, 'open': 63302.78, 'volumefrom': 39774.17, 'volumeto': 2614939972.01, 'close': 67549.14, 'conversionType': 'direct', 'conversionSymbol': ''}, {'time': 1636416000, 'high': 68514.26, 'low': 66312.42, 'open': 67549.14, 'volumefrom': 32745.53, 'volumeto': 2209551778.82, 'close': 66939.24, 'conversionType': 'direct', 'conversionSymbol': ''}, {'time': 1636502400, 'high': 68978.64, 'low': 63196.25, 'open': 66939.24, 'volumefrom': 50591.31, 'volumeto': 3365466815.36, 'close': 64926.06, 'conversionType': 'direct', 'conversionSymbol': ''}, {'time': 1636588800, 'high': 65585.68, 'low': 64130.37, 'open': 64926.06, 'volumefrom': 21475.67, 'volumeto': 1393819061.45, 'close': 64820.8, 'conversionType': 'direct', 'conversionSymbol': ''}, {'time': 1636675200, 'high': 65466, 'low': 62315.02, 'open': 64820.8, 'volumefrom': 32742.19, 'volumeto': 2090846686, 'close': 64156.3, 'conversionType': 'direct', 'conversionSymbol': ''}, {'time': 1636761600, 'high': 64967.34, 'low': 63406.98, 'open': 64156.3, 'volumefrom': 12719.98, 'volumeto': 815997863.99, 'close': 64409.56, 'conversionType': 'direct', 'conversionSymbol': ''}, {'time': 1636848000, 'high': 65509.06, 'low': 63616.33, 'open': 64409.56, 'volumefrom': 14680.72, 'volumeto': 947303706.23, 'close': 65509.06, 'conversionType': 'direct', 'conversionSymbol': ''}, {'time': 1636934400, 'high': 66335.42, 'low': 63442.58, 'open': 65509.06, 'volumefrom': 25263.23, 'volumeto': 1639253320.63, 'close': 63614.06, 'conversionType': 'direct', 'conversionSymbol': ''}, {'time': 1637020800, 'high': 63614.53, 'low': 58745.71, 'open': 63614.06, 'volumefrom': 61509.16, 'volumeto': 3740808475.72, 'close': 60108.9, 'conversionType': 'direct', 'conversionSymbol': ''}, {'time': 1637107200, 'high': 60837.09, 'low': 58566.05, 'open': 60108.9, 'volumefrom': 43164.9, 'volumeto': 2582737930.61, 'close': 60365.6, 'conversionType': 'direct', 'conversionSymbol': ''}, {'time': 1637193600, 'high': 60964.37, 'low': 56535.61, 'open': 60365.6, 'volumefrom': 63523.43, 'volumeto': 3718546724.95, 'close': 56930.68, 'conversionType': 'direct', 'conversionSymbol': ''}, {'time': 1637280000, 'high': 58403.92, 'low': 55655.03, 'open': 56930.68, 'volumefrom': 36833.38, 'volumeto': 2107344590.7, 'close': 58136.22, 'conversionType': 'direct', 'conversionSymbol': ''}, {'time': 1637366400, 'high': 59901.9, 'low': 57450.63, 'open': 58136.22, 'volumefrom': 16773.71, 'volumeto': 985075173.7, 'close': 59769.66, 'conversionType': 'direct', 'conversionSymbol': ''}, {'time': 1637452800, 'high': 60058.65, 'low': 58575.6, 'open': 59769.66, 'volumefrom': 14990.7, 'volumeto': 888045056.17, 'close': 58700.83, 'conversionType': 'direct', 'conversionSymbol': ''}, {'time': 1637539200, 'high': 59391.98, 'low': 55673.01, 'open': 58700.83, 'volumefrom': 41371.1, 'volumeto': 2371226089.18, 'close': 56303.06, 'conversionType': 'direct', 'conversionSymbol': ''}, {'time': 1637625600, 'high': 57873.77, 'low': 55485.59, 'open': 56303.06, 'volumefrom': 37871.22, 'volumeto': 2153848949.04, 'close': 57566.6, 'conversionType': 'direct', 'conversionSymbol': ''}, {'time': 1637712000, 'high': 57740.34, 'low': 55899.88, 'open': 57566.6, 'volumefrom': 28738.13, 'volumeto': 1630017073.7, 'close': 57175.09, 'conversionType': 'direct', 'conversionSymbol': ''}, {'time': 1637798400, 'high': 59437.04, 'low': 57056.64, 'open': 57175.09, 'volumefrom': 24221.47, 'volumeto': 1412787308.46, 'close': 58966.99, 'conversionType': 'direct', 'conversionSymbol': ''}, {'time': 1637884800, 'high': 59201.95, 'low': 53575.54, 'open': 58966.99, 'volumefrom': 60064.72, 'volumeto': 3312563227.95, 'close': 53788.22, 'conversionType': 'direct', 'conversionSymbol': ''}, {'time': 1637971200, 'high': 55316.65, 'low': 53668.95, 'open': 53788.22, 'volumefrom': 18504.73, 'volumeto': 1010585542.47, 'close': 54805.03, 'conversionType': 'direct', 'conversionSymbol': ''}, {'time': 1638057600, 'high': 57475.26, 'low': 53436.05, 'open': 54805.03, 'volumefrom': 21562.34, 'volumeto': 1186994646.57, 'close': 57331.41, 'conversionType': 'direct', 'conversionSymbol': ''}, {'time': 1638144000, 'high': 58898.57, 'low': 56752.37, 'open': 57331.41, 'volumefrom': 29291.8, 'volumeto': 1690005715.85, 'close': 57839.55, 'conversionType': 'direct', 'conversionSymbol': ''}, {'time': 1638230400, 'high': 59226.33, 'low': 55931.33, 'open': 57839.55, 'volumefrom': 41466.86, 'volumeto': 2383744473.31, 'close': 56975.35, 'conversionType': 'direct', 'conversionSymbol': ''}, {'time': 1638316800, 'high': 59096.53, 'low': 56505.99, 'open': 56975.35, 'volumefrom': 36078.24, 'volumeto': 2072824070.98, 'close': 57227.97, 'conversionType': 'direct', 'conversionSymbol': ''}, {'time': 1638403200, 'high': 57409.48, 'low': 55850.4, 'open': 57227.97, 'volumefrom': 30214.7, 'volumeto': 1712170975.38, 'close': 56522.76, 'conversionType': 'direct', 'conversionSymbol': ''}, {'time': 1638489600, 'high': 57639.15, 'low': 52493.23, 'open': 56522.76, 'volumefrom': 44903.19, 'volumeto': 2461497753.56, 'close': 53663.25, 'conversionType': 'direct', 'conversionSymbol': ''}, {'time': 1638576000, 'high': 53871.2, 'low': 43563.07, 'open': 53663.25, 'volumefrom': 89255.49, 'volumeto': 4315348557.56, 'close': 49243.39, 'conversionType': 'direct', 'conversionSymbol': ''}, {'time': 1638662400, 'high': 49764.31, 'low': 47840.63, 'open': 49243.39, 'volumefrom': 42264.26, 'volumeto': 2074283149.33, 'close': 49465.5, 'conversionType': 'direct', 'conversionSymbol': ''}, {'time': 1638748800, 'high': 50986.02, 'low': 47260.2, 'open': 49465.5, 'volumefrom': 49875.62, 'volumeto': 2437856119.9, 'close': 50552.83, 'conversionType': 'direct', 'conversionSymbol': ''}, {'time': 1638835200, 'high': 51953.27, 'low': 50083.33, 'open': 50552.83, 'volumefrom': 29306.55, 'volumeto': 1496164576.66, 'close': 50633.01, 'conversionType': 'direct', 'conversionSymbol': ''}, {'time': 1638921600, 'high': 51215.6, 'low': 48711.85, 'open': 50633.01, 'volumefrom': 25732.2, 'volumeto': 1290175070.3, 'close': 50513.04, 'conversionType': 'direct', 'conversionSymbol': ''}, {'time': 1639008000, 'high': 50829.41, 'low': 47347.73, 'open': 50513.04, 'volumefrom': 34472.44, 'volumeto': 1681556175.72, 'close': 47593.85, 'conversionType': 'direct', 'conversionSymbol': ''}, {'time': 1639094400, 'high': 50047.85, 'low': 46989.42, 'open': 47593.85, 'volumefrom': 39527.74, 'volumeto': 1905617871.17, 'close': 47191.14, 'conversionType': 'direct', 'conversionSymbol': ''}, {'time': 1639180800, 'high': 49504.07, 'low': 46829.85, 'open': 47191.14, 'volumefrom': 24394.48, 'volumeto': 1181186604.23, 'close': 49398.4, 'conversionType': 'direct', 'conversionSymbol': ''}, {'time': 1639267200, 'high': 50807.75, 'low': 48689.25, 'open': 49398.4, 'volumefrom': 21546.75, 'volumeto': 1072562349.4, 'close': 50109.99, 'conversionType': 'direct', 'conversionSymbol': ''}, {'time': 1639353600, 'high': 50215.42, 'low': 45800.52, 'open': 50109.99, 'volumefrom': 49444.13, 'volumeto': 2353893179.4, 'close': 46731.03, 'conversionType': 'direct', 'conversionSymbol': ''}, {'time': 1639440000, 'high': 48665.63, 'low': 46320.4, 'open': 46731.03, 'volumefrom': 34838.49, 'volumeto': 1646492085.28, 'close': 48387.69, 'conversionType': 'direct', 'conversionSymbol': ''}, {'time': 1639526400, 'high': 49499.91, 'low': 46562.1, 'open': 48387.69, 'volumefrom': 44270.94, 'volumeto': 2132679583.02, 'close': 48885.05, 'conversionType': 'direct', 'conversionSymbol': ''}, {'time': 1639612800, 'high': 49451.4, 'low': 47546.15, 'open': 48885.05, 'volumefrom': 26205.68, 'volumeto': 1271265804.99, 'close': 47635.92, 'conversionType': 'direct', 'conversionSymbol': ''}, {'time': 1639699200, 'high': 48004.37, 'low': 45505.02, 'open': 47635.92, 'volumefrom': 37546.89, 'volumeto': 1756062773.63, 'close': 46164.14, 'conversionType': 'direct', 'conversionSymbol': ''}, {'time': 1639785600, 'high': 47356.67, 'low': 45522.92, 'open': 46164.14, 'volumefrom': 18781.81, 'volumeto': 874187163.05, 'close': 46861.62, 'conversionType': 'direct', 'conversionSymbol': ''}, {'time': 1639872000, 'high': 48286.29, 'low': 46459.66, 'open': 46861.62, 'volumefrom': 21907.14, 'volumeto': 1035963939.83, 'close': 46697.13, 'conversionType': 'direct', 'conversionSymbol': ''}, {'time': 1639958400, 'high': 47495.72, 'low': 45586.49, 'open': 46697.13, 'volumefrom': 32678.5, 'volumeto': 1517599333.73, 'close': 46913.54, 'conversionType': 'direct', 'conversionSymbol': ''}, {'time': 1640044800, 'high': 49334.04, 'low': 46661.88, 'open': 46913.54, 'volumefrom': 31921.06, 'volumeto': 1546447524.57, 'close': 48917.48, 'conversionType': 'direct', 'conversionSymbol': ''}, {'time': 1640131200, 'high': 49581.41, 'low': 48460.43, 'open': 48917.48, 'volumefrom': 20998.03, 'volumeto': 1028434929.44, 'close': 48614.97, 'conversionType': 'direct', 'conversionSymbol': ''}, {'time': 1640217600, 'high': 51382.88, 'low': 48062.25, 'open': 48614.97, 'volumefrom': 30734.43, 'volumeto': 1525047125.27, 'close': 50830.2, 'conversionType': 'direct', 'conversionSymbol': ''}, {'time': 1640304000, 'high': 51863.56, 'low': 50449.36, 'open': 50830.2, 'volumefrom': 21669.58, 'volumeto': 1107244995.18, 'close': 50840.36, 'conversionType': 'direct', 'conversionSymbol': ''}, {'time': 1640390400, 'high': 51158.56, 'low': 50199.56, 'open': 50840.36, 'volumefrom': 11532.27, 'volumeto': 585818997.15, 'close': 50431.63, 'conversionType': 'direct', 'conversionSymbol': ''}, {'time': 1640476800, 'high': 51283.7, 'low': 49485.62, 'open': 50431.63, 'volumefrom': 14663.26, 'volumeto': 736617761.86, 'close': 50790.88, 'conversionType': 'direct', 'conversionSymbol': ''}, {'time': 1640563200, 'high': 52079.46, 'low': 50481.26, 'open': 50790.88, 'volumefrom': 21873.37, 'volumeto': 1120188136.96, 'close': 50714.73, 'conversionType': 'direct', 'conversionSymbol': ''}, {'time': 1640649600, 'high': 50718.53, 'low': 47317.78, 'open': 50714.73, 'volumefrom': 40699.4, 'volumeto': 1985905082.17, 'close': 47536.39, 'conversionType': 'direct', 'conversionSymbol': ''}, {'time': 1640736000, 'high': 48145.34, 'low': 46107.79, 'open': 47536.39, 'volumefrom': 33749.8, 'volumeto': 1599557104.64, 'close': 46471.7, 'conversionType': 'direct', 'conversionSymbol': ''}, {'time': 1640822400, 'high': 47917.89, 'low': 45964.28, 'open': 46471.7, 'volumefrom': 39311.18, 'volumeto': 1852206857.29, 'close': 47129.66, 'conversionType': 'direct', 'conversionSymbol': ''}, {'time': 1640908800, 'high': 48573.22, 'low': 45665.44, 'open': 47129.66, 'volumefrom': 34737.79, 'volumeto': 1636014399.31, 'close': 46197.31, 'conversionType': 'direct', 'conversionSymbol': ''}, {'time': 1640995200, 'high': 47950.29, 'low': 46196.03, 'open': 46197.31, 'volumefrom': 16697.92, 'volumeto': 786729972.03, 'close': 47737.35, 'conversionType': 'direct', 'conversionSymbol': ''}, {'time': 1641081600, 'high': 47979.26, 'low': 46666.18, 'open': 47737.35, 'volumefrom': 13025.66, 'volumeto': 615453426.93, 'close': 47306.41, 'conversionType': 'direct', 'conversionSymbol': ''}, {'time': 1641168000, 'high': 47572.23, 'low': 45707.55, 'open': 47306.41, 'volumefrom': 21681.38, 'volumeto': 1011309525.84, 'close': 46450.79, 'conversionType': 'direct', 'conversionSymbol': ''}, {'time': 1641254400, 'high': 47529.48, 'low': 45587.91, 'open': 46450.79, 'volumefrom': 29035.93, 'volumeto': 1349229422.84, 'close': 45824.54, 'conversionType': 'direct', 'conversionSymbol': ''}, {'time': 1641340800, 'high': 47067.18, 'low': 42510.86, 'open': 45824.54, 'volumefrom': 47769.2, 'volumeto': 2152187256.39, 'close': 43432.51, 'conversionType': 'direct', 'conversionSymbol': ''}, {'time': 1641427200, 'high': 43779.23, 'low': 42468.76, 'open': 43432.51, 'volumefrom': 36804.78, 'volumeto': 1585314774.47, 'close': 43094.54, 'conversionType': 'direct', 'conversionSymbol': ''}, {'time': 1641513600, 'high': 43138.79, 'low': 40750.42, 'open': 43094.54, 'volumefrom': 51310.46, 'volumeto': 2146452950.19, 'close': 41543.79, 'conversionType': 'direct', 'conversionSymbol': ''}, {'time': 1641600000, 'high': 42306.77, 'low': 40534.37, 'open': 41543.79, 'volumefrom': 27559.19, 'volumeto': 1143171232.86, 'close': 41686.67, 'conversionType': 'direct', 'conversionSymbol': ''}, {'time': 1641686400, 'high': 42800.66, 'low': 41237.13, 'open': 41686.67, 'volumefrom': 21486.68, 'volumeto': 901652458.82, 'close': 41869.6, 'conversionType': 'direct', 'conversionSymbol': ''}, {'time': 1641772800, 'high': 42251.07, 'low': 39667.6, 'open': 41869.6, 'volumefrom': 51976.97, 'volumeto': 2140270933.32, 'close': 41832.59, 'conversionType': 'direct', 'conversionSymbol': ''}, {'time': 1641859200, 'high': 43122.32, 'low': 41279.45, 'open': 41832.59, 'volumefrom': 36554.37, 'volumeto': 1545270650.68, 'close': 42743.03, 'conversionType': 'direct', 'conversionSymbol': ''}, {'time': 1641945600, 'high': 44293.83, 'low': 42471.08, 'open': 42743.03, 'volumefrom': 31859.05, 'volumeto': 1384575768.8, 'close': 43919.67, 'conversionType': 'direct', 'conversionSymbol': ''}, {'time': 1642032000, 'high': 44442.67, 'low': 42334.75, 'open': 43919.67, 'volumefrom': 29159.4, 'volumeto': 1263083590.1, 'close': 42575.61, 'conversionType': 'direct', 'conversionSymbol': ''}, {'time': 1642118400, 'high': 43467.05, 'low': 41785.44, 'open': 42575.61, 'volumefrom': 27290.3, 'volumeto': 1165100829.55, 'close': 43089.83, 'conversionType': 'direct', 'conversionSymbol': ''}, {'time': 1642204800, 'high': 43811.94, 'low': 42589.82, 'open': 43089.83, 'volumefrom': 14075.12, 'volumeto': 607715303.39, 'close': 43088.74, 'conversionType': 'direct', 'conversionSymbol': ''}, {'time': 1642291200, 'high': 43484.21, 'low': 42617.07, 'open': 43088.74, 'volumefrom': 12615.04, 'volumeto': 543620929.25, 'close': 43100.36, 'conversionType': 'direct', 'conversionSymbol': ''}, {'time': 1642377600, 'high': 43198.05, 'low': 41571.67, 'open': 43100.36, 'volumefrom': 20310.91, 'volumeto': 861459661.83, 'close': 42224.38, 'conversionType': 'direct', 'conversionSymbol': ''}, {'time': 1642464000, 'high': 42682.77, 'low': 41301.01, 'open': 42224.38, 'volumefrom': 26287.26, 'volumeto': 1099916846.37, 'close': 42372.75, 'conversionType': 'direct', 'conversionSymbol': ''}, {'time': 1642550400, 'high': 42575.28, 'low': 41144.83, 'open': 42372.75, 'volumefrom': 32436.62, 'volumeto': 1359832054.32, 'close': 41674.8, 'conversionType': 'direct', 'conversionSymbol': ''}, {'time': 1642636800, 'high': 43513.14, 'low': 40564.32, 'open': 41674.8, 'volumefrom': 35135.79, 'volumeto': 1482814889.83, 'close': 40697.03, 'conversionType': 'direct', 'conversionSymbol': ''}, {'time': 1642723200, 'high': 41116.66, 'low': 35494.42, 'open': 40697.03, 'volumefrom': 94195.63, 'volumeto': 3610621840.61, 'close': 36469.3, 'conversionType': 'direct', 'conversionSymbol': ''}, {'time': 1642809600, 'high': 36811.86, 'low': 34130.35, 'open': 36469.3, 'volumefrom': 68447.95, 'volumeto': 2419705021.17, 'close': 35075.92, 'conversionType': 'direct', 'conversionSymbol': ''}, {'time': 1642896000, 'high': 36539.19, 'low': 34648.38, 'open': 35075.92, 'volumefrom': 39599.36, 'volumeto': 1405386710.59, 'close': 36288.15, 'conversionType': 'direct', 'conversionSymbol': ''}, {'time': 1642982400, 'high': 37469.19, 'low': 32990.72, 'open': 36288.15, 'volumefrom': 94597.7, 'volumeto': 3289034581.3, 'close': 36702.79, 'conversionType': 'direct', 'conversionSymbol': ''}, {'time': 1643068800, 'high': 37555.35, 'low': 35732.05, 'open': 36702.79, 'volumefrom': 44562.17, 'volumeto': 1632275610.85, 'close': 36975.99, 'conversionType': 'direct', 'conversionSymbol': ''}, {'time': 1643155200, 'high': 38930.36, 'low': 36275.92, 'open': 36975.99, 'volumefrom': 57460, 'volumeto': 2163384356.61, 'close': 36829.37, 'conversionType': 'direct', 'conversionSymbol': ''}, {'time': 1643241600, 'high': 37242.79, 'low': 35543.94, 'open': 36829.37, 'volumefrom': 46006.99, 'volumeto': 1671118834.49, 'close': 37189.85, 'conversionType': 'direct', 'conversionSymbol': ''}, {'time': 1643328000, 'high': 38021.06, 'low': 36176.78, 'open': 37189.85, 'volumefrom': 38853.31, 'volumeto': 1439590445.61, 'close': 37744.7, 'conversionType': 'direct', 'conversionSymbol': ''}, {'time': 1643414400, 'high': 38728.29, 'low': 37343.45, 'open': 37744.7, 'volumefrom': 24097.29, 'volumeto': 913551592.58, 'close': 38184.86, 'conversionType': 'direct', 'conversionSymbol': ''}, {'time': 1643500800, 'high': 38364.51, 'low': 37377.53, 'open': 38184.86, 'volumefrom': 17354.8, 'volumeto': 658154943.17, 'close': 37908.44, 'conversionType': 'direct', 'conversionSymbol': ''}, {'time': 1643587200, 'high': 38769.81, 'low': 36660.7, 'open': 37908.44, 'volumefrom': 34716.41, 'volumeto': 1310842543.43, 'close': 38494.66, 'conversionType': 'direct', 'conversionSymbol': ''}, {'time': 1643673600, 'high': 39281.06, 'low': 38033.98, 'open': 38494.66, 'volumefrom': 32504.03, 'volumeto': 1255765239.87, 'close': 38721.49, 'conversionType': 'direct', 'conversionSymbol': ''}, {'time': 1643760000, 'high': 38883.19, 'low': 36650.8, 'open': 38721.49, 'volumefrom': 29144.5, 'volumeto': 1099971099.08, 'close': 36918.19, 'conversionType': 'direct', 'conversionSymbol': ''}, {'time': 1643846400, 'high': 37411.52, 'low': 36270.47, 'open': 36918.19, 'volumefrom': 27541.76, 'volumeto': 1012101574.73, 'close': 37328.64, 'conversionType': 'direct', 'conversionSymbol': ''}, {'time': 1643932800, 'high': 41737.83, 'low': 37060.18, 'open': 37328.64, 'volumefrom': 50443.53, 'volumeto': 1978064223.39, 'close': 41590.34, 'conversionType': 'direct', 'conversionSymbol': ''}, {'time': 1644019200, 'high': 41954.24, 'low': 40963.47, 'open': 41590.34, 'volumefrom': 22244.16, 'volumeto': 923755180.09, 'close': 41418.21, 'conversionType': 'direct', 'conversionSymbol': ''}, {'time': 1644105600, 'high': 42671.81, 'low': 41152.05, 'open': 41418.21, 'volumefrom': 14391.14, 'volumeto': 600848486.11, 'close': 42412.41, 'conversionType': 'direct', 'conversionSymbol': ''}, {'time': 1644192000, 'high': 44518.11, 'low': 41689.77, 'open': 42412.41, 'volumefrom': 42425.21, 'volumeto': 1836978530.57, 'close': 43861.07, 'conversionType': 'direct', 'conversionSymbol': ''}, {'time': 1644278400, 'high': 45483.65, 'low': 42704.39, 'open': 43861.07, 'volumefrom': 44964.2, 'volumeto': 1972336800.82, 'close': 44080.12, 'conversionType': 'direct', 'conversionSymbol': ''}, {'time': 1644364800, 'high': 44849.9, 'low': 43167.21, 'open': 44080.12, 'volumefrom': 27461.26, 'volumeto': 1207982275.77, 'close': 44422.91, 'conversionType': 'direct', 'conversionSymbol': ''}, {'time': 1644451200, 'high': 45837.02, 'low': 43254.41, 'open': 44422.91, 'volumefrom': 45532.09, 'volumeto': 2027452816.67, 'close': 43531.67, 'conversionType': 'direct', 'conversionSymbol': ''}, {'time': 1644537600, 'high': 43950.88, 'low': 42010.61, 'open': 43531.67, 'volumefrom': 39322.02, 'volumeto': 1694547021.08, 'close': 42398.98, 'conversionType': 'direct', 'conversionSymbol': ''}, {'time': 1644624000, 'high': 43041.72, 'low': 41775.79, 'open': 42398.98, 'volumefrom': 17662.13, 'volumeto': 747480841.84, 'close': 42239.01, 'conversionType': 'direct', 'conversionSymbol': ''}, {'time': 1644710400, 'high': 42773.35, 'low': 41900.31, 'open': 42239.01, 'volumefrom': 12420.62, 'volumeto': 525779246, 'close': 42069.84, 'conversionType': 'direct', 'conversionSymbol': ''}, {'time': 1644796800, 'high': 42857.15, 'low': 41581.41, 'open': 42069.84, 'volumefrom': 27975.8, 'volumeto': 1183004344.86, 'close': 42552.28, 'conversionType': 'direct', 'conversionSymbol': ''}, {'time': 1644883200, 'high': 44771.91, 'low': 42452.02, 'open': 42552.28, 'volumefrom': 27548.28, 'volumeto': 1210638166.2, 'close': 44576.33, 'conversionType': 'direct', 'conversionSymbol': ''}, {'time': 1644969600, 'high': 44583.03, 'low': 43361.09, 'open': 44576.33, 'volumefrom': 20597.85, 'volumeto': 905511530.54, 'close': 43896.34, 'conversionType': 'direct', 'conversionSymbol': ''}, {'time': 1645056000, 'high': 44187.88, 'low': 40104.04, 'open': 43896.34, 'volumefrom': 39645.29, 'volumeto': 1669164372.28, 'close': 40545.09, 'conversionType': 'direct', 'conversionSymbol': ''}, {'time': 1645142400, 'high': 40980.65, 'low': 39496.7, 'open': 40545.09, 'volumefrom': 32514.79, 'volumeto': 1308787736.51, 'close': 39994.66, 'conversionType': 'direct', 'conversionSymbol': ''}, {'time': 1645228800, 'high': 40464.62, 'low': 39664.71, 'open': 39994.66, 'volumefrom': 11674.81, 'volumeto': 467744109.72, 'close': 40107.12, 'conversionType': 'direct', 'conversionSymbol': ''}, {'time': 1645315200, 'high': 40142.98, 'low': 38019.97, 'open': 40107.12, 'volumefrom': 23028.66, 'volumeto': 890707081.68, 'close': 38397.25, 'conversionType': 'direct', 'conversionSymbol': ''}, {'time': 1645401600, 'high': 39495.33, 'low': 36862.52, 'open': 38397.25, 'volumefrom': 47549.32, 'volumeto': 1819938918.66, 'close': 37037.39, 'conversionType': 'direct', 'conversionSymbol': ''}, {'time': 1645488000, 'high': 38458.26, 'low': 36371.68, 'open': 37037.39, 'volumefrom': 42886.39, 'volumeto': 1605539398.15, 'close': 38267.75, 'conversionType': 'direct', 'conversionSymbol': ''}, {'time': 1645574400, 'high': 39260.51, 'low': 37083.83, 'open': 38267.75, 'volumefrom': 31850.78, 'volumeto': 1218156854.61, 'close': 37270.85, 'conversionType': 'direct', 'conversionSymbol': ''}, {'time': 1645660800, 'high': 39182.44, 'low': 34349.58, 'open': 37270.85, 'volumefrom': 93348.71, 'volumeto': 3367553842.97, 'close': 38353.62, 'conversionType': 'direct', 'conversionSymbol': ''}, {'time': 1645747200, 'high': 39710.26, 'low': 38043.51, 'open': 38353.62, 'volumefrom': 39454.29, 'volumeto': 1536575836.24, 'close': 39239.77, 'conversionType': 'direct', 'conversionSymbol': ''}, {'time': 1645833600, 'high': 40228.13, 'low': 38605.65, 'open': 39239.77, 'volumefrom': 18649.99, 'volumeto': 732995982.54, 'close': 39134.83, 'conversionType': 'direct', 'conversionSymbol': ''}, {'time': 1645920000, 'high': 39861.91, 'low': 37039.71, 'open': 39134.83, 'volumefrom': 30834.07, 'volumeto': 1184510440.64, 'close': 37714.96, 'conversionType': 'direct', 'conversionSymbol': ''}, {'time': 1646006400, 'high': 43953.92, 'low': 37473.3, 'open': 37714.96, 'volumefrom': 55323.43, 'volumeto': 2231772118.95, 'close': 43189.46, 'conversionType': 'direct', 'conversionSymbol': ''}, {'time': 1646092800, 'high': 44883.1, 'low': 42893.5, 'open': 43189.46, 'volumefrom': 48462.11, 'volumeto': 2121207162.06, 'close': 44428.47, 'conversionType': 'direct', 'conversionSymbol': ''}, {'time': 1646179200, 'high': 45069.78, 'low': 43387.92, 'open': 44428.47, 'volumefrom': 37389.51, 'volumeto': 1652867992.22, 'close': 43935.37, 'conversionType': 'direct', 'conversionSymbol': ''}, {'time': 1646265600, 'high': 44079.17, 'low': 41852.46, 'open': 43935.37, 'volumefrom': 36512.65, 'volumeto': 1565020513.9, 'close': 42474.37, 'conversionType': 'direct', 'conversionSymbol': ''}, {'time': 1646352000, 'high': 42520.95, 'low': 38621.24, 'open': 42474.37, 'volumefrom': 50126.39, 'volumeto': 2043287977.87, 'close': 39154.4, 'conversionType': 'direct', 'conversionSymbol': ''}, {'time': 1646438400, 'high': 39596.42, 'low': 38652.98, 'open': 39154.4, 'volumefrom': 15938.79, 'volumeto': 624289503.91, 'close': 39407.02, 'conversionType': 'direct', 'conversionSymbol': ''}, {'time': 1646524800, 'high': 39686.74, 'low': 38133.84, 'open': 39407.02, 'volumefrom': 21034.62, 'volumeto': 818379145.11, 'close': 38428.92, 'conversionType': 'direct', 'conversionSymbol': ''}, {'time': 1646611200, 'high': 39536.14, 'low': 37191.99, 'open': 38428.92, 'volumefrom': 40474.56, 'volumeto': 1547870219.6, 'close': 38030.63, 'conversionType': 'direct', 'conversionSymbol': ''}, {'time': 1646697600, 'high': 39361.33, 'low': 37905.43, 'open': 38030.63, 'volumefrom': 35521.85, 'volumeto': 1373819361.89, 'close': 38748.52, 'conversionType': 'direct', 'conversionSymbol': ''}, {'time': 1646784000, 'high': 42557.95, 'low': 38685.96, 'open': 38748.52, 'volumefrom': 47211.82, 'volumeto': 1960521974.24, 'close': 41962.85, 'conversionType': 'direct', 'conversionSymbol': ''}, {'time': 1646870400, 'high': 42043.56, 'low': 38853.45, 'open': 41962.85, 'volumefrom': 42472.49, 'volumeto': 1683595949.7, 'close': 39443.42, 'conversionType': 'direct', 'conversionSymbol': ''}, {'time': 1646956800, 'high': 40221.93, 'low': 38261.24, 'open': 39443.42, 'volumefrom': 39197.4, 'volumeto': 1527385235.35, 'close': 38741.03, 'conversionType': 'direct', 'conversionSymbol': ''}, {'time': 1647043200, 'high': 39414.02, 'low': 38696.52, 'open': 38741.03, 'volumefrom': 11886.69, 'volumeto': 464694957.41, 'close': 38805.53, 'conversionType': 'direct', 'conversionSymbol': ''}, {'time': 1647129600, 'high': 39254.88, 'low': 37633.11, 'open': 38805.53, 'volumefrom': 17796.13, 'volumeto': 687723583.56, 'close': 37796.31, 'conversionType': 'direct', 'conversionSymbol': ''}, {'time': 1647216000, 'high': 39802.89, 'low': 37566.52, 'open': 37796.31, 'volumefrom': 32100.73, 'volumeto': 1245884221.15, 'close': 39696.28, 'conversionType': 'direct', 'conversionSymbol': ''}, {'time': 1647302400, 'high': 39863.78, 'low': 38259.88, 'open': 39696.28, 'volumefrom': 30642.09, 'volumeto': 1196862773.71, 'close': 39314.86, 'conversionType': 'direct', 'conversionSymbol': ''}, {'time': 1647388800, 'high': 41638.54, 'low': 38933.24, 'open': 39314.86, 'volumefrom': 54967.36, 'volumeto': 2217384588.25, 'close': 41133.64, 'conversionType': 'direct', 'conversionSymbol': ''}, {'time': 1647475200, 'high': 41441.08, 'low': 40581.36, 'open': 41133.64, 'volumefrom': 18001.83, 'volumeto': 736387236.02, 'close': 40956.79, 'conversionType': 'direct', 'conversionSymbol': ''}, {'time': 1647561600, 'high': 42250.94, 'low': 40230.1, 'open': 40956.79, 'volumefrom': 31863.74, 'volumeto': 1310605069.99, 'close': 41790.97, 'conversionType': 'direct', 'conversionSymbol': ''}, {'time': 1647648000, 'high': 42367.55, 'low': 41549.61, 'open': 41790.97, 'volumefrom': 15244.76, 'volumeto': 638860853.99, 'close': 42235.02, 'conversionType': 'direct', 'conversionSymbol': ''}, {'time': 1647734400, 'high': 42297.3, 'low': 40979.25, 'open': 42235.02, 'volumefrom': 15580.67, 'volumeto': 647551620.15, 'close': 41243.16, 'conversionType': 'direct', 'conversionSymbol': ''}, {'time': 1647820800, 'high': 41510.03, 'low': 40555.57, 'open': 41243.16, 'volumefrom': 21865.63, 'volumeto': 897693606.33, 'close': 41043.9, 'conversionType': 'direct', 'conversionSymbol': ''}, {'time': 1647907200, 'high': 43287.39, 'low': 40923.9, 'open': 41043.9, 'volumefrom': 37636.83, 'volumeto': 1597913842.6, 'close': 42380.11, 'conversionType': 'direct', 'conversionSymbol': ''}, {'time': 1647993600, 'high': 43021.74, 'low': 41806.4, 'open': 42380.11, 'volumefrom': 26406.13, 'volumeto': 1116852856.74, 'close': 42904.1, 'conversionType': 'direct', 'conversionSymbol': ''}, {'time': 1648080000, 'high': 44230.66, 'low': 42653.71, 'open': 42904.1, 'volumefrom': 34879.48, 'volumeto': 1514036890.73, 'close': 44006.77, 'conversionType': 'direct', 'conversionSymbol': ''}, {'time': 1648166400, 'high': 45112.71, 'low': 43629.05, 'open': 44006.77, 'volumefrom': 34465.44, 'volumeto': 1529847572.88, 'close': 44331.36, 'conversionType': 'direct', 'conversionSymbol': ''}, {'time': 1648252800, 'high': 44811.3, 'low': 44108.04, 'open': 44331.36, 'volumefrom': 11559.16, 'volumeto': 513402297.27, 'close': 44542.31, 'conversionType': 'direct', 'conversionSymbol': ''}, {'time': 1648339200, 'high': 46896.6, 'low': 44449.41, 'open': 44542.31, 'volumefrom': 22676.91, 'volumeto': 1035071605.98, 'close': 46842.14, 'conversionType': 'direct', 'conversionSymbol': ''}, {'time': 1648425600, 'high': 48208.48, 'low': 46669.19, 'open': 46842.14, 'volumefrom': 35796.78, 'volumeto': 1697234773.76, 'close': 47128.71, 'conversionType': 'direct', 'conversionSymbol': ''}, {'time': 1648512000, 'high': 48054.67, 'low': 47018.87, 'open': 47128.71, 'volumefrom': 27820.54, 'volumeto': 1324122253.95, 'close': 47445.3, 'conversionType': 'direct', 'conversionSymbol': ''}, {'time': 1648598400, 'high': 47690.62, 'low': 46606.97, 'open': 47445.3, 'volumefrom': 24550.14, 'volumeto': 1158606188.62, 'close': 47056.41, 'conversionType': 'direct', 'conversionSymbol': ''}, {'time': 1648684800, 'high': 47599.87, 'low': 45220.41, 'open': 47056.41, 'volumefrom': 29105.61, 'volumeto': 1350600519.47, 'close': 45522.65, 'conversionType': 'direct', 'conversionSymbol': ''}, {'time': 1648771200, 'high': 46726.2, 'low': 44256.66, 'open': 45522.65, 'volumefrom': 34247.82, 'volumeto': 1558891962.07, 'close': 46299.75, 'conversionType': 'direct', 'conversionSymbol': ''}, {'time': 1648857600, 'high': 47208.84, 'low': 45655.15, 'open': 46299.75, 'volumefrom': 16494.27, 'volumeto': 765849775.02, 'close': 45822.28, 'conversionType': 'direct', 'conversionSymbol': ''}, {'time': 1648944000, 'high': 47432.6, 'low': 45565.57, 'open': 45822.28, 'volumefrom': 17415.21, 'volumeto': 809819360.86, 'close': 46414.26, 'conversionType': 'direct', 'conversionSymbol': ''}, {'time': 1649030400, 'high': 46893.71, 'low': 45136.03, 'open': 46414.26, 'volumefrom': 24886.34, 'volumeto': 1145480471.77, 'close': 46609.36, 'conversionType': 'direct', 'conversionSymbol': ''}, {'time': 1649116800, 'high': 47187.66, 'low': 45382.83, 'open': 46609.36, 'volumefrom': 24206.2, 'volumeto': 1118296319.71, 'close': 45501.58, 'conversionType': 'direct', 'conversionSymbol': ''}, {'time': 1649203200, 'high': 45518.32, 'low': 43129.76, 'open': 45501.58, 'volumefrom': 43268.81, 'volumeto': 1918395755.34, 'close': 43177.78, 'conversionType': 'direct', 'conversionSymbol': ''}, {'time': 1649289600, 'high': 43894.7, 'low': 42766.45, 'open': 43177.78, 'volumefrom': 22801.41, 'volumeto': 989892880.8, 'close': 43466.21, 'conversionType': 'direct', 'conversionSymbol': ''}, {'time': 1649376000, 'high': 43982.39, 'low': 42123.42, 'open': 43466.21, 'volumefrom': 25455.2, 'volumeto': 1098738940.21, 'close': 42273.38, 'conversionType': 'direct', 'conversionSymbol': ''}, {'time': 1649462400, 'high': 42813.04, 'low': 42136.04, 'open': 42273.38, 'volumefrom': 9050.96, 'volumeto': 384171498.87, 'close': 42768.61, 'conversionType': 'direct', 'conversionSymbol': ''}, {'time': 1649548800, 'high': 43442.48, 'low': 41921.59, 'open': 42768.61, 'volumefrom': 12859.53, 'volumeto': 549311405.43, 'close': 42153.77, 'conversionType': 'direct', 'conversionSymbol': ''}, {'time': 1649635200, 'high': 42422.86, 'low': 39229.4, 'open': 42153.77, 'volumefrom': 34885.37, 'volumeto': 1423397890.93, 'close': 39536.71, 'conversionType': 'direct', 'conversionSymbol': ''}, {'time': 1649721600, 'high': 40673.93, 'low': 39266.86, 'open': 39536.71, 'volumefrom': 27198.43, 'volumeto': 1087667635.69, 'close': 40086.66, 'conversionType': 'direct', 'conversionSymbol': ''}, {'time': 1649808000, 'high': 41538.17, 'low': 39591.74, 'open': 40086.66, 'volumefrom': 24390.05, 'volumeto': 990022174.31, 'close': 41150.33, 'conversionType': 'direct', 'conversionSymbol': ''}, {'time': 1649894400, 'high': 41503.56, 'low': 39587.14, 'open': 41150.33, 'volumefrom': 21473.52, 'volumeto': 870654332.34, 'close': 39951.63, 'conversionType': 'direct', 'conversionSymbol': ''}, {'time': 1649980800, 'high': 40800.76, 'low': 39779.2, 'open': 39951.63, 'volumefrom': 13944.94, 'volumeto': 561514975.78, 'close': 40563.69, 'conversionType': 'direct', 'conversionSymbol': ''}, {'time': 1650067200, 'high': 40698.01, 'low': 40019.08, 'open': 40563.69, 'volumefrom': 7771.05, 'volumeto': 313875941.14, 'close': 40392.55, 'conversionType': 'direct', 'conversionSymbol': ''}, {'time': 1650153600, 'high': 40602.63, 'low': 39563.9, 'open': 40392.55, 'volumefrom': 9701.08, 'volumeto': 389893199.53, 'close': 39688.16, 'conversionType': 'direct', 'conversionSymbol': ''}, {'time': 1650240000, 'high': 41096.46, 'low': 38569.14, 'open': 39688.16, 'volumefrom': 27721.5, 'volumeto': 1101204133.54, 'close': 40811.03, 'conversionType': 'direct', 'conversionSymbol': ''}, {'time': 1650326400, 'high': 41755.93, 'low': 40588.12, 'open': 40811.03, 'volumefrom': 18644.77, 'volumeto': 768239204.72, 'close': 41504.44, 'conversionType': 'direct', 'conversionSymbol': ''}, {'time': 1650412800, 'high': 42208.1, 'low': 40919.04, 'open': 41504.44, 'volumefrom': 25834.31, 'volumeto': 1072814871.19, 'close': 41375.35, 'conversionType': 'direct', 'conversionSymbol': ''}, {'time': 1650499200, 'high': 42996.5, 'low': 39864.73, 'open': 41375.35, 'volumefrom': 31792.3, 'volumeto': 1324052657.83, 'close': 40490.97, 'conversionType': 'direct', 'conversionSymbol': ''}, {'time': 1650585600, 'high': 40794.73, 'low': 39190.22, 'open': 40490.97, 'volumefrom': 28863.91, 'volumeto': 1154693915.31, 'close': 39716.04, 'conversionType': 'direct', 'conversionSymbol': ''}, {'time': 1650672000, 'high': 39865.41, 'low': 39567.21, 'open': 39716.04, 'volumefrom': 831.01, 'volumeto': 32959936.32, 'close': 39592.47, 'conversionType': 'direct', 'conversionSymbol': ''}]}\n"
     ]
    }
   ],
   "source": [
    "BTCprice = json.loads(response2.text)['Data']\n",
    "print(BTCprice)\n"
   ]
  },
  {
   "cell_type": "code",
   "execution_count": null,
   "id": "70f2680b",
   "metadata": {},
   "outputs": [],
   "source": [
    "# Creating a DataFrame for Data in the variable BTCdf"
   ]
  },
  {
   "cell_type": "code",
   "execution_count": 135,
   "id": "f53cd88f",
   "metadata": {},
   "outputs": [
    {
     "name": "stdout",
     "output_type": "stream",
     "text": [
      "           time      high       low      open  volumefrom      volumeto  \\\n",
      "0    1633478400  55656.67  50439.32  51504.27    64415.98  3.444996e+09   \n",
      "1    1633564800  55359.77  53391.93  55343.24    33806.76  1.836530e+09   \n",
      "2    1633651200  56047.91  53666.09  53796.22    29127.91  1.592266e+09   \n",
      "3    1633737600  55485.20  53696.32  53949.29    14593.95  7.996072e+08   \n",
      "4    1633824000  56473.63  54131.52  54968.04    23094.98  1.276001e+09   \n",
      "..          ...       ...       ...       ...         ...           ...   \n",
      "195  1650326400  41755.93  40588.12  40811.03    18644.77  7.682392e+08   \n",
      "196  1650412800  42208.10  40919.04  41504.44    25834.31  1.072815e+09   \n",
      "197  1650499200  42996.50  39864.73  41375.35    31792.30  1.324053e+09   \n",
      "198  1650585600  40794.73  39190.22  40490.97    28863.91  1.154694e+09   \n",
      "199  1650672000  39865.41  39567.21  39716.04      831.01  3.295994e+07   \n",
      "\n",
      "        close conversionType conversionSymbol  \n",
      "0    55345.85         direct                   \n",
      "1    53797.21         direct                   \n",
      "2    53949.29         direct                   \n",
      "3    54968.04         direct                   \n",
      "4    54700.24         direct                   \n",
      "..        ...            ...              ...  \n",
      "195  41504.44         direct                   \n",
      "196  41375.35         direct                   \n",
      "197  40490.97         direct                   \n",
      "198  39716.04         direct                   \n",
      "199  39592.47         direct                   \n",
      "\n",
      "[200 rows x 9 columns]\n"
     ]
    }
   ],
   "source": [
    "BTCdf = pd.DataFrame(BTCprice['Data'])\n",
    "print(BTCdf)"
   ]
  },
  {
   "cell_type": "code",
   "execution_count": null,
   "id": "e871b324",
   "metadata": {},
   "outputs": [],
   "source": [
    "# Taking the close price for BTC"
   ]
  },
  {
   "cell_type": "code",
   "execution_count": 136,
   "id": "f73ec02f",
   "metadata": {},
   "outputs": [
    {
     "name": "stdout",
     "output_type": "stream",
     "text": [
      "0      55345.85\n",
      "1      53797.21\n",
      "2      53949.29\n",
      "3      54968.04\n",
      "4      54700.24\n",
      "         ...   \n",
      "195    41504.44\n",
      "196    41375.35\n",
      "197    40490.97\n",
      "198    39716.04\n",
      "199    39592.47\n",
      "Name: close, Length: 200, dtype: float64\n"
     ]
    }
   ],
   "source": [
    "print(BTCdf['close'])\n"
   ]
  },
  {
   "cell_type": "code",
   "execution_count": null,
   "id": "9f2261fc",
   "metadata": {},
   "outputs": [],
   "source": [
    "# Assigning the close price of BTC to variable \"x\" and close price of ETH to variable \"y\""
   ]
  },
  {
   "cell_type": "code",
   "execution_count": 137,
   "id": "5ea214ff",
   "metadata": {},
   "outputs": [
    {
     "name": "stdout",
     "output_type": "stream",
     "text": [
      "0       5.566667\n",
      "1       5.350000\n",
      "2       9.391667\n",
      "3      10.058333\n",
      "4       4.116667\n",
      "         ...    \n",
      "195    11.241667\n",
      "196    11.716667\n",
      "197     9.633333\n",
      "198     6.658333\n",
      "199     5.995833\n",
      "Name: 1, Length: 200, dtype: float64\n"
     ]
    }
   ],
   "source": [
    "x = BTCvoldf[1]\n",
    "print(x)"
   ]
  },
  {
   "cell_type": "code",
   "execution_count": 138,
   "id": "970899b1",
   "metadata": {},
   "outputs": [
    {
     "name": "stdout",
     "output_type": "stream",
     "text": [
      "0      55345.85\n",
      "1      53797.21\n",
      "2      53949.29\n",
      "3      54968.04\n",
      "4      54700.24\n",
      "         ...   \n",
      "195    41504.44\n",
      "196    41375.35\n",
      "197    40490.97\n",
      "198    39716.04\n",
      "199    39592.47\n",
      "Name: close, Length: 200, dtype: float64\n"
     ]
    }
   ],
   "source": [
    "y = BTCdf['close']\n",
    "print(y)"
   ]
  },
  {
   "cell_type": "code",
   "execution_count": 120,
   "id": "d2836cbb",
   "metadata": {},
   "outputs": [],
   "source": [
    "## OLS estimate"
   ]
  },
  {
   "cell_type": "code",
   "execution_count": 139,
   "id": "1dc9dcfe",
   "metadata": {},
   "outputs": [
    {
     "name": "stdout",
     "output_type": "stream",
     "text": [
      "alpha = 45920.58137896288 \n",
      "beta = 286.18774313717387\n"
     ]
    }
   ],
   "source": [
    "beta = ((np.multiply(y, x)).mean()-np.mean(x)*np.mean(y))/((np.multiply(x, x)).mean()-np.mean(x)*np.mean(x))\n",
    "alpha =np.mean(y)-beta*np.mean(x)\n",
    "print(\"alpha =\",alpha, \"\\nbeta =\",beta)"
   ]
  },
  {
   "cell_type": "code",
   "execution_count": 140,
   "id": "38dd15ce",
   "metadata": {},
   "outputs": [
    {
     "data": {
      "text/plain": [
       "pandas.core.series.Series"
      ]
     },
     "execution_count": 140,
     "metadata": {},
     "output_type": "execute_result"
    }
   ],
   "source": [
    "type((np.multiply(y, x)))"
   ]
  },
  {
   "cell_type": "code",
   "execution_count": 141,
   "id": "7937f37e",
   "metadata": {},
   "outputs": [
    {
     "data": {
      "text/plain": [
       "15041844956.150436"
      ]
     },
     "execution_count": 141,
     "metadata": {},
     "output_type": "execute_result"
    }
   ],
   "source": [
    "y_hat = alpha + np.multiply(beta,x)\n",
    "L = np.sum(np.multiply(y - y_hat,y - y_hat))\n",
    "L"
   ]
  },
  {
   "cell_type": "code",
   "execution_count": 189,
   "id": "07fc2b73",
   "metadata": {},
   "outputs": [],
   "source": [
    "## Gradient Descent Trial and Error"
   ]
  },
  {
   "cell_type": "code",
   "execution_count": 142,
   "id": "588611da",
   "metadata": {},
   "outputs": [],
   "source": [
    "def  cal_cost(beta0,beta1,x,y):\n",
    "        n = len(y)\n",
    "        predictions = beta0 + np.multiply(beta1,x)\n",
    "        cost = (1/2*n) * np.sum(np.square(predictions-y))\n",
    "        return cost\n",
    "    "
   ]
  },
  {
   "cell_type": "code",
   "execution_count": 145,
   "id": "3f0966ae",
   "metadata": {},
   "outputs": [],
   "source": [
    "iterations = 1500\n",
    "learningrate = 0.01\n",
    "beta0 = -1\n",
    "beta1 = 0\n",
    "n = len(y)\n",
    "index = np.arange(1, iterations+1, 1).reshape((iterations, 1))\n",
    "\n",
    "loss_history = np.zeros((iterations,1))\n",
    "beta0_history = np.zeros((iterations,1))\n",
    "beta1_history = np.zeros((iterations,1))\n",
    "\n",
    "for i in range(iterations):\n",
    "       \n",
    "        prediction = beta0 + np.multiply(beta1,x)\n",
    "        residuals = y-prediction\n",
    "        residuals_sum = sum(residuals)\n",
    "        beta0_gradient = -(1/n)*residuals_sum*(learningrate)\n",
    "        beta0 = beta0 - beta0_gradient\n",
    "        beta0_history[i] = beta0\n",
    "    \n",
    "        residuals_x = np.multiply(residuals,x)\n",
    "        residuals_x_sum = sum(residuals_x)\n",
    "        beta1_gradient = -(1/n)*residuals_x_sum*(learningrate)\n",
    "        beta1 = beta1 - beta1_gradient\n",
    "        beta1_history[i] = beta1\n",
    "        loss_history[i] = cal_cost(beta0,beta1,x,y)\n",
    "        "
   ]
  },
  {
   "cell_type": "code",
   "execution_count": 146,
   "id": "71e047ee",
   "metadata": {},
   "outputs": [
    {
     "data": {
      "text/plain": [
       "[<matplotlib.lines.Line2D at 0x18ae63d6040>]"
      ]
     },
     "execution_count": 146,
     "metadata": {},
     "output_type": "execute_result"
    },
    {
     "data": {
      "image/png": "[encoded data removed]",
      "text/plain": [
       "<Figure size 432x288 with 3 Axes>"
      ]
     },
     "metadata": {
      "needs_background": "light"
     },
     "output_type": "display_data"
    }
   ],
   "source": [
    "plt.subplot(311)\n",
    "plt.plot(index, beta0_history,'go')\n",
    "plt.subplot(312)\n",
    "plt.plot(index, beta1_history,'go')\n",
    "plt.subplot(313)\n",
    "plt.plot(index, loss_history,'go')"
   ]
  },
  {
   "cell_type": "code",
   "execution_count": 147,
   "id": "bb59d527",
   "metadata": {},
   "outputs": [
    {
     "data": {
      "text/plain": [
       "[<matplotlib.lines.Line2D at 0x18ae6462f10>]"
      ]
     },
     "execution_count": 147,
     "metadata": {},
     "output_type": "execute_result"
    },
    {
     "data": {
      "image/png": "[encoded data removed]",
      "text/plain": [
       "<Figure size 432x288 with 1 Axes>"
      ]
     },
     "metadata": {
      "needs_background": "light"
     },
     "output_type": "display_data"
    }
   ],
   "source": [
    "    plt.plot(index, beta0_history,'go')"
   ]
  },
  {
   "cell_type": "code",
   "execution_count": 148,
   "id": "70ab2543",
   "metadata": {},
   "outputs": [
    {
     "data": {
      "text/plain": [
       "[<matplotlib.lines.Line2D at 0x18ae64d5370>]"
      ]
     },
     "execution_count": 148,
     "metadata": {},
     "output_type": "execute_result"
    },
    {
     "data": {
      "image/png": "[encoded data removed]",
      "text/plain": [
       "<Figure size 432x288 with 1 Axes>"
      ]
     },
     "metadata": {
      "needs_background": "light"
     },
     "output_type": "display_data"
    }
   ],
   "source": [
    "plt.plot(index, loss_history,'go')"
   ]
  },
  {
   "cell_type": "code",
   "execution_count": 149,
   "id": "71bc8fff",
   "metadata": {},
   "outputs": [
    {
     "data": {
      "text/plain": [
       "[<matplotlib.lines.Line2D at 0x18ae65399d0>]"
      ]
     },
     "execution_count": 149,
     "metadata": {},
     "output_type": "execute_result"
    },
    {
     "data": {
      "image/png": "[encoded data removed]",
      "text/plain": [
       "<Figure size 432x288 with 1 Axes>"
      ]
     },
     "metadata": {
      "needs_background": "light"
     },
     "output_type": "display_data"
    }
   ],
   "source": [
    "plt.plot(index, beta1_history,'go')"
   ]
  }
 ],
 "metadata": {
  "kernelspec": {
   "display_name": "Python 3 (ipykernel)",
   "language": "python",
   "name": "python3"
  },
  "language_info": {
   "codemirror_mode": {
    "name": "ipython",
    "version": 3
   },
   "file_extension": ".py",
   "mimetype": "text/x-python",
   "name": "python",
   "nbconvert_exporter": "python",
   "pygments_lexer": "ipython3",
   "version": "3.9.7"
  }
 },
 "nbformat": 4,
 "nbformat_minor": 5
}
