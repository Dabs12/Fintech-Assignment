{
 "cells": [
  {
   "cell_type": "code",
   "execution_count": 2,
   "id": "52b07f5a",
   "metadata": {},
   "outputs": [],
   "source": [
    "#Import Libraries\n",
    "import pandas as pd\n",
    "import numpy as np\n",
    "import datetime\n",
    "from cryptocmd import CmcScraper"
   ]
  },
  {
   "cell_type": "code",
   "execution_count": 4,
   "id": "3a3b2661",
   "metadata": {},
   "outputs": [],
   "source": [
    "#Import Plots\n",
    "import matplotlib.pyplot as plt\n",
    "%matplotlib inline\n",
    "import plotly.graph_objects as go\n",
    "from plotly.subplots import make_subplots\n",
    "import plotly.express as px\n",
    "import seaborn as sns\n",
    "from statsmodels.graphics.tsaplots import plot_acf\n",
    "from statsmodels.graphics.tsaplots import plot_pacf\n",
    "plt.style.use('ggplot')\n"
   ]
  },
  {
   "cell_type": "code",
   "execution_count": 5,
   "id": "217ccd3e",
   "metadata": {},
   "outputs": [],
   "source": [
    "#Import plot colors\n",
    "palette_btc = {'orange': '#f7931a',\n",
    "               'white' : '#ffffff',\n",
    "               'gray'  : '#4d4d4d',\n",
    "               'blue'  : '#0d579b',\n",
    "               'green' : '#329239'\n",
    "              }\n"
   ]
  },
  {
   "cell_type": "code",
   "execution_count": 6,
   "id": "c0b61b77",
   "metadata": {},
   "outputs": [],
   "source": [
    "#Import Forecasting Libraries\n",
    "from lightgbm import LGBMRegressor\n",
    "\n",
    "from sklearn.metrics import mean_absolute_error\n",
    "\n",
    "from skforecast.ForecasterAutoreg import ForecasterAutoreg\n",
    "from skforecast.model_selection import backtesting_forecaster"
   ]
  },
  {
   "cell_type": "code",
   "execution_count": 21,
   "id": "bebd5c93",
   "metadata": {
    "scrolled": true
   },
   "outputs": [],
   "source": [
    "#Import Data from CmcScraper\n",
    "scraper = CmcScraper('BTC', '28-04-2013', '01-01-2022')"
   ]
  },
  {
   "cell_type": "code",
   "execution_count": 22,
   "id": "f503993a",
   "metadata": {},
   "outputs": [],
   "source": [
    "#Imported data into a DataFrame\n",
    "data = scraper.get_dataframe()"
   ]
  },
  {
   "cell_type": "code",
   "execution_count": 23,
   "id": "cd3427d4",
   "metadata": {},
   "outputs": [],
   "source": [
    "#Cleaning the DataFrame\n",
    "data.sort_values(by='Date', ascending=True, inplace=True)"
   ]
  },
  {
   "cell_type": "code",
   "execution_count": 24,
   "id": "9388b0f2",
   "metadata": {},
   "outputs": [],
   "source": [
    "pd.set_option('display.max_columns', None)"
   ]
  },
  {
   "cell_type": "code",
   "execution_count": 25,
   "id": "4835507c",
   "metadata": {},
   "outputs": [
    {
     "data": {
      "text/html": [
       "<div>\n",
       "<style scoped>\n",
       "    .dataframe tbody tr th:only-of-type {\n",
       "        vertical-align: middle;\n",
       "    }\n",
       "\n",
       "    .dataframe tbody tr th {\n",
       "        vertical-align: top;\n",
       "    }\n",
       "\n",
       "    .dataframe thead th {\n",
       "        text-align: right;\n",
       "    }\n",
       "</style>\n",
       "<table border=\"1\" class=\"dataframe\">\n",
       "  <thead>\n",
       "    <tr style=\"text-align: right;\">\n",
       "      <th></th>\n",
       "      <th>Date</th>\n",
       "      <th>Open</th>\n",
       "      <th>High</th>\n",
       "      <th>Low</th>\n",
       "      <th>Close</th>\n",
       "      <th>Volume</th>\n",
       "      <th>Market Cap</th>\n",
       "    </tr>\n",
       "  </thead>\n",
       "  <tbody>\n",
       "    <tr>\n",
       "      <th>3170</th>\n",
       "      <td>2013-04-28</td>\n",
       "      <td>135.300003</td>\n",
       "      <td>135.979996</td>\n",
       "      <td>132.100006</td>\n",
       "      <td>134.210007</td>\n",
       "      <td>0.000000e+00</td>\n",
       "      <td>1.488567e+09</td>\n",
       "    </tr>\n",
       "    <tr>\n",
       "      <th>3169</th>\n",
       "      <td>2013-04-29</td>\n",
       "      <td>134.444000</td>\n",
       "      <td>147.488007</td>\n",
       "      <td>134.000000</td>\n",
       "      <td>144.539993</td>\n",
       "      <td>0.000000e+00</td>\n",
       "      <td>1.603769e+09</td>\n",
       "    </tr>\n",
       "    <tr>\n",
       "      <th>3168</th>\n",
       "      <td>2013-04-30</td>\n",
       "      <td>144.000000</td>\n",
       "      <td>146.929993</td>\n",
       "      <td>134.050003</td>\n",
       "      <td>139.000000</td>\n",
       "      <td>0.000000e+00</td>\n",
       "      <td>1.542813e+09</td>\n",
       "    </tr>\n",
       "    <tr>\n",
       "      <th>3167</th>\n",
       "      <td>2013-05-01</td>\n",
       "      <td>139.000000</td>\n",
       "      <td>139.889999</td>\n",
       "      <td>107.720001</td>\n",
       "      <td>116.989998</td>\n",
       "      <td>0.000000e+00</td>\n",
       "      <td>1.298955e+09</td>\n",
       "    </tr>\n",
       "    <tr>\n",
       "      <th>3166</th>\n",
       "      <td>2013-05-02</td>\n",
       "      <td>116.379997</td>\n",
       "      <td>125.599998</td>\n",
       "      <td>92.281898</td>\n",
       "      <td>105.209999</td>\n",
       "      <td>0.000000e+00</td>\n",
       "      <td>1.168517e+09</td>\n",
       "    </tr>\n",
       "    <tr>\n",
       "      <th>...</th>\n",
       "      <td>...</td>\n",
       "      <td>...</td>\n",
       "      <td>...</td>\n",
       "      <td>...</td>\n",
       "      <td>...</td>\n",
       "      <td>...</td>\n",
       "      <td>...</td>\n",
       "    </tr>\n",
       "    <tr>\n",
       "      <th>4</th>\n",
       "      <td>2021-12-28</td>\n",
       "      <td>50679.859377</td>\n",
       "      <td>50679.859377</td>\n",
       "      <td>47414.209925</td>\n",
       "      <td>47588.854777</td>\n",
       "      <td>3.343038e+10</td>\n",
       "      <td>9.000762e+11</td>\n",
       "    </tr>\n",
       "    <tr>\n",
       "      <th>3</th>\n",
       "      <td>2021-12-29</td>\n",
       "      <td>47623.870463</td>\n",
       "      <td>48119.740950</td>\n",
       "      <td>46201.494371</td>\n",
       "      <td>46444.710491</td>\n",
       "      <td>3.004923e+10</td>\n",
       "      <td>8.784788e+11</td>\n",
       "    </tr>\n",
       "    <tr>\n",
       "      <th>2</th>\n",
       "      <td>2021-12-30</td>\n",
       "      <td>46490.606049</td>\n",
       "      <td>47879.965500</td>\n",
       "      <td>46060.313166</td>\n",
       "      <td>47178.125843</td>\n",
       "      <td>2.668649e+10</td>\n",
       "      <td>8.923863e+11</td>\n",
       "    </tr>\n",
       "    <tr>\n",
       "      <th>1</th>\n",
       "      <td>2021-12-31</td>\n",
       "      <td>47169.372859</td>\n",
       "      <td>48472.527490</td>\n",
       "      <td>45819.954553</td>\n",
       "      <td>46306.446123</td>\n",
       "      <td>3.697417e+10</td>\n",
       "      <td>8.759394e+11</td>\n",
       "    </tr>\n",
       "    <tr>\n",
       "      <th>0</th>\n",
       "      <td>2022-01-01</td>\n",
       "      <td>46311.744663</td>\n",
       "      <td>47827.310995</td>\n",
       "      <td>46288.486095</td>\n",
       "      <td>47686.811509</td>\n",
       "      <td>2.458267e+10</td>\n",
       "      <td>9.021042e+11</td>\n",
       "    </tr>\n",
       "  </tbody>\n",
       "</table>\n",
       "<p>3171 rows × 7 columns</p>\n",
       "</div>"
      ],
      "text/plain": [
       "           Date          Open          High           Low         Close  \\\n",
       "3170 2013-04-28    135.300003    135.979996    132.100006    134.210007   \n",
       "3169 2013-04-29    134.444000    147.488007    134.000000    144.539993   \n",
       "3168 2013-04-30    144.000000    146.929993    134.050003    139.000000   \n",
       "3167 2013-05-01    139.000000    139.889999    107.720001    116.989998   \n",
       "3166 2013-05-02    116.379997    125.599998     92.281898    105.209999   \n",
       "...         ...           ...           ...           ...           ...   \n",
       "4    2021-12-28  50679.859377  50679.859377  47414.209925  47588.854777   \n",
       "3    2021-12-29  47623.870463  48119.740950  46201.494371  46444.710491   \n",
       "2    2021-12-30  46490.606049  47879.965500  46060.313166  47178.125843   \n",
       "1    2021-12-31  47169.372859  48472.527490  45819.954553  46306.446123   \n",
       "0    2022-01-01  46311.744663  47827.310995  46288.486095  47686.811509   \n",
       "\n",
       "            Volume    Market Cap  \n",
       "3170  0.000000e+00  1.488567e+09  \n",
       "3169  0.000000e+00  1.603769e+09  \n",
       "3168  0.000000e+00  1.542813e+09  \n",
       "3167  0.000000e+00  1.298955e+09  \n",
       "3166  0.000000e+00  1.168517e+09  \n",
       "...            ...           ...  \n",
       "4     3.343038e+10  9.000762e+11  \n",
       "3     3.004923e+10  8.784788e+11  \n",
       "2     2.668649e+10  8.923863e+11  \n",
       "1     3.697417e+10  8.759394e+11  \n",
       "0     2.458267e+10  9.021042e+11  \n",
       "\n",
       "[3171 rows x 7 columns]"
      ]
     },
     "metadata": {},
     "output_type": "display_data"
    }
   ],
   "source": [
    "display(data)"
   ]
  },
  {
   "cell_type": "code",
   "execution_count": 26,
   "id": "336b1ec6",
   "metadata": {},
   "outputs": [],
   "source": [
    "pd.reset_option('display.max_columns')"
   ]
  },
  {
   "cell_type": "code",
   "execution_count": 27,
   "id": "9e708c25",
   "metadata": {},
   "outputs": [],
   "source": [
    "data['date'] = pd.to_datetime(data['Date'], format='%Y-%m-%d %H:%M:%S')"
   ]
  },
  {
   "cell_type": "code",
   "execution_count": 28,
   "id": "e1957d7a",
   "metadata": {},
   "outputs": [],
   "source": [
    "data = data.loc[:, ['date', 'Open', 'Close', 'High', 'Low']]\n",
    "data = data.rename({'Open': 'open', 'Close': 'close', 'High': 'high', 'Low': 'low'}, \n",
    "                    axis=1)\n",
    "data = data.set_index('date')\n",
    "data = data.asfreq('D')\n",
    "data = data.sort_index()"
   ]
  },
  {
   "cell_type": "code",
   "execution_count": 29,
   "id": "e185edad",
   "metadata": {},
   "outputs": [
    {
     "name": "stdout",
     "output_type": "stream",
     "text": [
      "Number of rows with missing values: 0.0\n"
     ]
    }
   ],
   "source": [
    "print(f'Number of rows with missing values: {data.isnull().any(axis=1).mean()}')"
   ]
  },
  {
   "cell_type": "code",
   "execution_count": 31,
   "id": "8bfa9213",
   "metadata": {},
   "outputs": [],
   "source": [
    "# Dict with Bitcoin halvings info\n",
    "btc_halving = {'halving'              : [0, 1 , 2, 3, 4],\n",
    "               'date'                 : ['2009-01-03', '2012-11-28', \n",
    "                                         '2016-07-09', '2020-05-11', np.nan],\n",
    "               'reward'               : [50, 25, 12.5, 6.25, 3.125],\n",
    "               'halving_block_number' : [0, 210000, 420000 ,630000, 840000]\n",
    "              }"
   ]
  },
  {
   "cell_type": "code",
   "execution_count": 32,
   "id": "c6c13b5b",
   "metadata": {},
   "outputs": [
    {
     "name": "stdout",
     "output_type": "stream",
     "text": [
      "The next halving will occur on approximately: 2024-05-06\n"
     ]
    }
   ],
   "source": [
    "# Next halving calculation\n",
    "# The remaining blocks according to the coinmarketcap.com website for \n",
    "# the next halving as of 2022-01-14 are taken as a starting point\n",
    "remaining_blocks = 121400\n",
    "blocks_per_day = 144\n",
    "\n",
    "days = remaining_blocks / blocks_per_day\n",
    "\n",
    "next_halving = pd.to_datetime('2022-01-14', format='%Y-%m-%d') + datetime.timedelta(days=days)\n",
    "next_halving = next_halving.replace(microsecond=0, second=0, minute=0, hour=0)\n",
    "next_halving = next_halving.strftime('%Y-%m-%d')\n",
    "\n",
    "btc_halving['date'][-1] = next_halving\n",
    "\n",
    "print(f'The next halving will occur on approximately: {next_halving}')"
   ]
  },
  {
   "cell_type": "code",
   "execution_count": 33,
   "id": "55c2e362",
   "metadata": {},
   "outputs": [],
   "source": [
    "# Include rewards and countdown to next halving in dataset\n",
    "data['reward'] = np.nan\n",
    "data['countdown_halving'] = np.nan\n",
    "\n",
    "for i in range(len(btc_halving['halving'])-1):\n",
    "     \n",
    "    # Start and end date of each halving\n",
    "    if btc_halving['date'][i] < data.index.min().strftime('%Y-%m-%d'):\n",
    "        start_date = data.index.min().strftime('%Y-%m-%d')\n",
    "    else:\n",
    "        start_date = btc_halving['date'][i]\n",
    "        \n",
    "    end_date = btc_halving['date'][i+1]\n",
    "    mask = (data.index >= start_date) & (data.index < end_date)\n",
    "        \n",
    "    # Fill column 'reward' with mining rewards\n",
    "    data.loc[mask, 'reward'] = btc_halving['reward'][i]\n",
    "    \n",
    "    # Fill column 'countdown_halving' with remaining days\n",
    "    time_to_next_halving = pd.to_datetime(end_date) - pd.to_datetime(start_date)\n",
    "    \n",
    "    data.loc[mask, 'countdown_halving'] = np.arange(time_to_next_halving.days)[::-1][:mask.sum()]"
   ]
  },
  {
   "cell_type": "code",
   "execution_count": 34,
   "id": "4e4c068d",
   "metadata": {},
   "outputs": [
    {
     "name": "stdout",
     "output_type": "stream",
     "text": [
      "Second halving: 2016-07-09\n"
     ]
    },
    {
     "data": {
      "text/html": [
       "<div>\n",
       "<style scoped>\n",
       "    .dataframe tbody tr th:only-of-type {\n",
       "        vertical-align: middle;\n",
       "    }\n",
       "\n",
       "    .dataframe tbody tr th {\n",
       "        vertical-align: top;\n",
       "    }\n",
       "\n",
       "    .dataframe thead th {\n",
       "        text-align: right;\n",
       "    }\n",
       "</style>\n",
       "<table border=\"1\" class=\"dataframe\">\n",
       "  <thead>\n",
       "    <tr style=\"text-align: right;\">\n",
       "      <th></th>\n",
       "      <th>open</th>\n",
       "      <th>close</th>\n",
       "      <th>high</th>\n",
       "      <th>low</th>\n",
       "      <th>reward</th>\n",
       "      <th>countdown_halving</th>\n",
       "    </tr>\n",
       "    <tr>\n",
       "      <th>date</th>\n",
       "      <th></th>\n",
       "      <th></th>\n",
       "      <th></th>\n",
       "      <th></th>\n",
       "      <th></th>\n",
       "      <th></th>\n",
       "    </tr>\n",
       "  </thead>\n",
       "  <tbody>\n",
       "    <tr>\n",
       "      <th>2016-07-08</th>\n",
       "      <td>640.687988</td>\n",
       "      <td>666.523010</td>\n",
       "      <td>666.706970</td>\n",
       "      <td>636.466980</td>\n",
       "      <td>25.0</td>\n",
       "      <td>0.0</td>\n",
       "    </tr>\n",
       "    <tr>\n",
       "      <th>2016-07-09</th>\n",
       "      <td>666.383972</td>\n",
       "      <td>650.960022</td>\n",
       "      <td>666.383972</td>\n",
       "      <td>633.398987</td>\n",
       "      <td>12.5</td>\n",
       "      <td>1401.0</td>\n",
       "    </tr>\n",
       "  </tbody>\n",
       "</table>\n",
       "</div>"
      ],
      "text/plain": [
       "                  open       close        high         low  reward  \\\n",
       "date                                                                 \n",
       "2016-07-08  640.687988  666.523010  666.706970  636.466980    25.0   \n",
       "2016-07-09  666.383972  650.960022  666.383972  633.398987    12.5   \n",
       "\n",
       "            countdown_halving  \n",
       "date                           \n",
       "2016-07-08                0.0  \n",
       "2016-07-09             1401.0  "
      ]
     },
     "metadata": {},
     "output_type": "display_data"
    },
    {
     "name": "stdout",
     "output_type": "stream",
     "text": [
      "\n",
      "Third halving: 2020-05-11\n"
     ]
    },
    {
     "data": {
      "text/html": [
       "<div>\n",
       "<style scoped>\n",
       "    .dataframe tbody tr th:only-of-type {\n",
       "        vertical-align: middle;\n",
       "    }\n",
       "\n",
       "    .dataframe tbody tr th {\n",
       "        vertical-align: top;\n",
       "    }\n",
       "\n",
       "    .dataframe thead th {\n",
       "        text-align: right;\n",
       "    }\n",
       "</style>\n",
       "<table border=\"1\" class=\"dataframe\">\n",
       "  <thead>\n",
       "    <tr style=\"text-align: right;\">\n",
       "      <th></th>\n",
       "      <th>open</th>\n",
       "      <th>close</th>\n",
       "      <th>high</th>\n",
       "      <th>low</th>\n",
       "      <th>reward</th>\n",
       "      <th>countdown_halving</th>\n",
       "    </tr>\n",
       "    <tr>\n",
       "      <th>date</th>\n",
       "      <th></th>\n",
       "      <th></th>\n",
       "      <th></th>\n",
       "      <th></th>\n",
       "      <th></th>\n",
       "      <th></th>\n",
       "    </tr>\n",
       "  </thead>\n",
       "  <tbody>\n",
       "    <tr>\n",
       "      <th>2020-05-10</th>\n",
       "      <td>9591.169231</td>\n",
       "      <td>8756.431142</td>\n",
       "      <td>9595.580629</td>\n",
       "      <td>8395.107451</td>\n",
       "      <td>12.50</td>\n",
       "      <td>0.0</td>\n",
       "    </tr>\n",
       "    <tr>\n",
       "      <th>2020-05-11</th>\n",
       "      <td>8755.535639</td>\n",
       "      <td>8601.796202</td>\n",
       "      <td>9033.471176</td>\n",
       "      <td>8374.322975</td>\n",
       "      <td>6.25</td>\n",
       "      <td>1455.0</td>\n",
       "    </tr>\n",
       "  </tbody>\n",
       "</table>\n",
       "</div>"
      ],
      "text/plain": [
       "                   open        close         high          low  reward  \\\n",
       "date                                                                     \n",
       "2020-05-10  9591.169231  8756.431142  9595.580629  8395.107451   12.50   \n",
       "2020-05-11  8755.535639  8601.796202  9033.471176  8374.322975    6.25   \n",
       "\n",
       "            countdown_halving  \n",
       "date                           \n",
       "2020-05-10                0.0  \n",
       "2020-05-11             1455.0  "
      ]
     },
     "metadata": {},
     "output_type": "display_data"
    },
    {
     "name": "stdout",
     "output_type": "stream",
     "text": [
      "\n",
      "Next halving: 2024-05-06\n"
     ]
    },
    {
     "data": {
      "text/html": [
       "<div>\n",
       "<style scoped>\n",
       "    .dataframe tbody tr th:only-of-type {\n",
       "        vertical-align: middle;\n",
       "    }\n",
       "\n",
       "    .dataframe tbody tr th {\n",
       "        vertical-align: top;\n",
       "    }\n",
       "\n",
       "    .dataframe thead th {\n",
       "        text-align: right;\n",
       "    }\n",
       "</style>\n",
       "<table border=\"1\" class=\"dataframe\">\n",
       "  <thead>\n",
       "    <tr style=\"text-align: right;\">\n",
       "      <th></th>\n",
       "      <th>open</th>\n",
       "      <th>close</th>\n",
       "      <th>high</th>\n",
       "      <th>low</th>\n",
       "      <th>reward</th>\n",
       "      <th>countdown_halving</th>\n",
       "    </tr>\n",
       "    <tr>\n",
       "      <th>date</th>\n",
       "      <th></th>\n",
       "      <th></th>\n",
       "      <th></th>\n",
       "      <th></th>\n",
       "      <th></th>\n",
       "      <th></th>\n",
       "    </tr>\n",
       "  </thead>\n",
       "  <tbody>\n",
       "    <tr>\n",
       "      <th>2021-12-31</th>\n",
       "      <td>47169.372859</td>\n",
       "      <td>46306.446123</td>\n",
       "      <td>48472.527490</td>\n",
       "      <td>45819.954553</td>\n",
       "      <td>6.25</td>\n",
       "      <td>856.0</td>\n",
       "    </tr>\n",
       "    <tr>\n",
       "      <th>2022-01-01</th>\n",
       "      <td>46311.744663</td>\n",
       "      <td>47686.811509</td>\n",
       "      <td>47827.310995</td>\n",
       "      <td>46288.486095</td>\n",
       "      <td>6.25</td>\n",
       "      <td>855.0</td>\n",
       "    </tr>\n",
       "  </tbody>\n",
       "</table>\n",
       "</div>"
      ],
      "text/plain": [
       "                    open         close          high           low  reward  \\\n",
       "date                                                                         \n",
       "2021-12-31  47169.372859  46306.446123  48472.527490  45819.954553    6.25   \n",
       "2022-01-01  46311.744663  47686.811509  47827.310995  46288.486095    6.25   \n",
       "\n",
       "            countdown_halving  \n",
       "date                           \n",
       "2021-12-31              856.0  \n",
       "2022-01-01              855.0  "
      ]
     },
     "execution_count": 34,
     "metadata": {},
     "output_type": "execute_result"
    }
   ],
   "source": [
    "# Check that the data have been created correctly\n",
    "print('Second halving:', btc_halving['date'][2])\n",
    "display(data.loc['2016-07-08':'2016-07-09'])\n",
    "print('')\n",
    "print('Third halving:', btc_halving['date'][3])\n",
    "display(data.loc['2020-05-10':'2020-05-11'])\n",
    "print('')\n",
    "print('Next halving:', btc_halving['date'][4])\n",
    "data.tail(2)"
   ]
  },
  {
   "cell_type": "code",
   "execution_count": 36,
   "id": "91338ea5",
   "metadata": {},
   "outputs": [
    {
     "name": "stdout",
     "output_type": "stream",
     "text": [
      "Complete time series : 2013-04-28 00:00:00 --- 2022-01-01 00:00:00  (n=3171)\n",
      "Train dates          : 2020-01-01 00:00:00 --- 2021-06-30 00:00:00  (n=547)\n",
      "Test dates           : 2021-07-01 00:00:00 --- 2022-01-01 00:00:00  (n=185)\n"
     ]
    }
   ],
   "source": [
    "# Selection of train-test dates\n",
    "start_train = '2020-01-01 00:00:00'\n",
    "end_train = '2021-06-30 23:59:59'\n",
    "\n",
    "print(f\"Complete time series : {data.index.min()} --- {data.index.max()}  (n={len(data)})\")\n",
    "print(f\"Train dates          : {data.loc[start_train:end_train].index.min()} --- {data.loc[start_train:end_train].index.max()}  (n={len(data.loc[start_train:end_train])})\")\n",
    "print(f\"Test dates           : {data.loc[end_train:].index.min()} --- {data.loc[end_train:].index.max()}  (n={len(data.loc[end_train:])})\")"
   ]
  },
  {
   "cell_type": "code",
   "execution_count": 37,
   "id": "a7931a44",
   "metadata": {},
   "outputs": [
    {
     "name": "stdout",
     "output_type": "stream",
     "text": [
      "Test error: 1267.7978352283603\n"
     ]
    },
    {
     "data": {
      "text/html": [
       "<div>\n",
       "<style scoped>\n",
       "    .dataframe tbody tr th:only-of-type {\n",
       "        vertical-align: middle;\n",
       "    }\n",
       "\n",
       "    .dataframe tbody tr th {\n",
       "        vertical-align: top;\n",
       "    }\n",
       "\n",
       "    .dataframe thead th {\n",
       "        text-align: right;\n",
       "    }\n",
       "</style>\n",
       "<table border=\"1\" class=\"dataframe\">\n",
       "  <thead>\n",
       "    <tr style=\"text-align: right;\">\n",
       "      <th></th>\n",
       "      <th>close</th>\n",
       "      <th>pred_close</th>\n",
       "    </tr>\n",
       "    <tr>\n",
       "      <th>date</th>\n",
       "      <th></th>\n",
       "      <th></th>\n",
       "    </tr>\n",
       "  </thead>\n",
       "  <tbody>\n",
       "    <tr>\n",
       "      <th>2021-07-01</th>\n",
       "      <td>33572.117653</td>\n",
       "      <td>35040.837249</td>\n",
       "    </tr>\n",
       "    <tr>\n",
       "      <th>2021-07-02</th>\n",
       "      <td>33897.048590</td>\n",
       "      <td>33572.117653</td>\n",
       "    </tr>\n",
       "    <tr>\n",
       "      <th>2021-07-03</th>\n",
       "      <td>34668.548402</td>\n",
       "      <td>33897.048590</td>\n",
       "    </tr>\n",
       "    <tr>\n",
       "      <th>2021-07-04</th>\n",
       "      <td>35287.779766</td>\n",
       "      <td>34668.548402</td>\n",
       "    </tr>\n",
       "  </tbody>\n",
       "</table>\n",
       "</div>"
      ],
      "text/plain": [
       "                   close    pred_close\n",
       "date                                  \n",
       "2021-07-01  33572.117653  35040.837249\n",
       "2021-07-02  33897.048590  33572.117653\n",
       "2021-07-03  34668.548402  33897.048590\n",
       "2021-07-04  35287.779766  34668.548402"
      ]
     },
     "metadata": {},
     "output_type": "display_data"
    }
   ],
   "source": [
    "# Random walk simulation\n",
    "\n",
    "df_rw = data[['close']].copy()\n",
    "df_rw['pred_close'] = df_rw['close'].shift(1)\n",
    "\n",
    "# Test error\n",
    "y_true = df_rw.loc[end_train:, 'close']\n",
    "y_pred = df_rw.loc[end_train:, 'pred_close']\n",
    "metric = mean_absolute_error(y_true, y_pred)\n",
    "\n",
    "print(f'Test error: {metric}')\n",
    "display(df_rw.loc[end_train:,].head(4))"
   ]
  },
  {
   "cell_type": "code",
   "execution_count": 38,
   "id": "8d6f7ea0",
   "metadata": {},
   "outputs": [
    {
     "data": {
      "image/png": "[encoded data removed]",
      "text/plain": [
       "<Figure size 792x324 with 1 Axes>"
      ]
     },
     "metadata": {},
     "output_type": "display_data"
    }
   ],
   "source": [
    "# Plot\n",
    "fig, ax = plt.subplots(figsize=(11, 4.5))\n",
    "df_rw.loc[end_train:, 'close'].plot(ax=ax, linewidth=2, label='Test',\n",
    "                                    c='sienna')\n",
    "df_rw.loc[end_train:, 'pred_close'].plot(ax=ax, linewidth=2, label='Prediction',\n",
    "                                    c='darkblue')\n",
    "ax.set_title('Random Walk (Test data)')\n",
    "ax.set_ylabel('Price (USD)')\n",
    "ax.legend();"
   ]
  },
  {
   "cell_type": "code",
   "execution_count": 39,
   "id": "226bfa7d",
   "metadata": {},
   "outputs": [
    {
     "data": {
      "text/html": [
       "<div>\n",
       "<style scoped>\n",
       "    .dataframe tbody tr th:only-of-type {\n",
       "        vertical-align: middle;\n",
       "    }\n",
       "\n",
       "    .dataframe tbody tr th {\n",
       "        vertical-align: top;\n",
       "    }\n",
       "\n",
       "    .dataframe thead th {\n",
       "        text-align: right;\n",
       "    }\n",
       "</style>\n",
       "<table border=\"1\" class=\"dataframe\">\n",
       "  <thead>\n",
       "    <tr style=\"text-align: right;\">\n",
       "      <th></th>\n",
       "      <th>model</th>\n",
       "      <th>lags</th>\n",
       "      <th>test_error</th>\n",
       "      <th>exog_variables</th>\n",
       "    </tr>\n",
       "  </thead>\n",
       "  <tbody>\n",
       "    <tr>\n",
       "      <th>0</th>\n",
       "      <td>Base - Random Walk</td>\n",
       "      <td>1</td>\n",
       "      <td>1267.797835</td>\n",
       "      <td>False</td>\n",
       "    </tr>\n",
       "  </tbody>\n",
       "</table>\n",
       "</div>"
      ],
      "text/plain": [
       "                model  lags   test_error  exog_variables\n",
       "0  Base - Random Walk     1  1267.797835           False"
      ]
     },
     "execution_count": 39,
     "metadata": {},
     "output_type": "execute_result"
    }
   ],
   "source": [
    "# DataFrame models' test error\n",
    "df_errors = pd.DataFrame({'model': 'Base - Random Walk', 'lags': 1, \n",
    "                          'test_error': metric, 'exog_variables': False},\n",
    "                         index=[0])\n",
    "df_errors"
   ]
  },
  {
   "cell_type": "code",
   "execution_count": 40,
   "id": "c176ac29",
   "metadata": {},
   "outputs": [
    {
     "data": {
      "text/html": [
       "<div>\n",
       "<style scoped>\n",
       "    .dataframe tbody tr th:only-of-type {\n",
       "        vertical-align: middle;\n",
       "    }\n",
       "\n",
       "    .dataframe tbody tr th {\n",
       "        vertical-align: top;\n",
       "    }\n",
       "\n",
       "    .dataframe thead th {\n",
       "        text-align: right;\n",
       "    }\n",
       "</style>\n",
       "<table border=\"1\" class=\"dataframe\">\n",
       "  <thead>\n",
       "    <tr style=\"text-align: right;\">\n",
       "      <th></th>\n",
       "      <th>open</th>\n",
       "      <th>close</th>\n",
       "      <th>high</th>\n",
       "      <th>low</th>\n",
       "      <th>countdown_halving</th>\n",
       "      <th>reward_6.25</th>\n",
       "      <th>reward_12.5</th>\n",
       "      <th>reward_25.0</th>\n",
       "      <th>month_1</th>\n",
       "      <th>month_2</th>\n",
       "      <th>month_3</th>\n",
       "      <th>month_4</th>\n",
       "      <th>month_5</th>\n",
       "      <th>month_6</th>\n",
       "      <th>month_7</th>\n",
       "      <th>month_8</th>\n",
       "      <th>month_9</th>\n",
       "      <th>month_10</th>\n",
       "      <th>month_11</th>\n",
       "      <th>month_12</th>\n",
       "    </tr>\n",
       "    <tr>\n",
       "      <th>date</th>\n",
       "      <th></th>\n",
       "      <th></th>\n",
       "      <th></th>\n",
       "      <th></th>\n",
       "      <th></th>\n",
       "      <th></th>\n",
       "      <th></th>\n",
       "      <th></th>\n",
       "      <th></th>\n",
       "      <th></th>\n",
       "      <th></th>\n",
       "      <th></th>\n",
       "      <th></th>\n",
       "      <th></th>\n",
       "      <th></th>\n",
       "      <th></th>\n",
       "      <th></th>\n",
       "      <th></th>\n",
       "      <th></th>\n",
       "      <th></th>\n",
       "    </tr>\n",
       "  </thead>\n",
       "  <tbody>\n",
       "    <tr>\n",
       "      <th>2013-04-28</th>\n",
       "      <td>135.300003</td>\n",
       "      <td>134.210007</td>\n",
       "      <td>135.979996</td>\n",
       "      <td>132.100006</td>\n",
       "      <td>1167.0</td>\n",
       "      <td>0</td>\n",
       "      <td>0</td>\n",
       "      <td>1</td>\n",
       "      <td>0</td>\n",
       "      <td>0</td>\n",
       "      <td>0</td>\n",
       "      <td>1</td>\n",
       "      <td>0</td>\n",
       "      <td>0</td>\n",
       "      <td>0</td>\n",
       "      <td>0</td>\n",
       "      <td>0</td>\n",
       "      <td>0</td>\n",
       "      <td>0</td>\n",
       "      <td>0</td>\n",
       "    </tr>\n",
       "    <tr>\n",
       "      <th>2013-04-29</th>\n",
       "      <td>134.444000</td>\n",
       "      <td>144.539993</td>\n",
       "      <td>147.488007</td>\n",
       "      <td>134.000000</td>\n",
       "      <td>1166.0</td>\n",
       "      <td>0</td>\n",
       "      <td>0</td>\n",
       "      <td>1</td>\n",
       "      <td>0</td>\n",
       "      <td>0</td>\n",
       "      <td>0</td>\n",
       "      <td>1</td>\n",
       "      <td>0</td>\n",
       "      <td>0</td>\n",
       "      <td>0</td>\n",
       "      <td>0</td>\n",
       "      <td>0</td>\n",
       "      <td>0</td>\n",
       "      <td>0</td>\n",
       "      <td>0</td>\n",
       "    </tr>\n",
       "  </tbody>\n",
       "</table>\n",
       "</div>"
      ],
      "text/plain": [
       "                  open       close        high         low  countdown_halving  \\\n",
       "date                                                                            \n",
       "2013-04-28  135.300003  134.210007  135.979996  132.100006             1167.0   \n",
       "2013-04-29  134.444000  144.539993  147.488007  134.000000             1166.0   \n",
       "\n",
       "            reward_6.25  reward_12.5  reward_25.0  month_1  month_2  month_3  \\\n",
       "date                                                                           \n",
       "2013-04-28            0            0            1        0        0        0   \n",
       "2013-04-29            0            0            1        0        0        0   \n",
       "\n",
       "            month_4  month_5  month_6  month_7  month_8  month_9  month_10  \\\n",
       "date                                                                         \n",
       "2013-04-28        1        0        0        0        0        0         0   \n",
       "2013-04-29        1        0        0        0        0        0         0   \n",
       "\n",
       "            month_11  month_12  \n",
       "date                            \n",
       "2013-04-28         0         0  \n",
       "2013-04-29         0         0  "
      ]
     },
     "execution_count": 40,
     "metadata": {},
     "output_type": "execute_result"
    }
   ],
   "source": [
    "# Change of the categorical variables to category type\n",
    "data['month'] = data.index.month\n",
    "data['month'] = data['month'].astype('category')\n",
    "data['reward'] = data['reward'].astype('category')\n",
    "\n",
    "# One hot encoding\n",
    "data = pd.get_dummies(data, columns=['reward', 'month'])\n",
    "data.head(2)"
   ]
  },
  {
   "cell_type": "code",
   "execution_count": 42,
   "id": "46a7ff52",
   "metadata": {},
   "outputs": [
    {
     "name": "stdout",
     "output_type": "stream",
     "text": [
      "['reward_6.25', 'reward_12.5', 'reward_25.0', 'month_1', 'month_2', 'month_3', 'month_4', 'month_5', 'month_6', 'month_7', 'month_8', 'month_9', 'month_10', 'month_11', 'month_12', 'countdown_halving']\n"
     ]
    }
   ],
   "source": [
    "# All exogenous variables are selected, including those obtained during one hot encoding.\n",
    "exog = [column for column in data.columns if column.startswith(('reward', 'month'))]\n",
    "exog.extend(['countdown_halving'])\n",
    "print(exog)"
   ]
  },
  {
   "cell_type": "code",
   "execution_count": 81,
   "id": "a90efcd2",
   "metadata": {},
   "outputs": [
    {
     "name": "stdout",
     "output_type": "stream",
     "text": [
      "Forecaster will be fit 185 times. This can take substantial amounts of time. If not feasible, try with `refit = False`. \n",
      "\n"
     ]
    }
   ],
   "source": [
    "# Forecaster backtest with exogenous variables\n",
    "\n",
    "forecaster = ForecasterAutoreg(\n",
    "                regressor = LGBMRegressor(random_state=123),\n",
    "                lags      = 1\n",
    "                )\n",
    "\n",
    "# Backtest test data, 1 step\n",
    "metric, predictions = backtesting_forecaster(\n",
    "                             forecaster = forecaster,\n",
    "                             y          = data.loc[start_train:, 'close'],\n",
    "                             exog       = data.loc[start_train:, exog],\n",
    "                             initial_train_size = len(data.loc[start_train:end_train, 'close']),\n",
    "                             fixed_train_size   = True,\n",
    "                             steps      = 1,\n",
    "                             refit      = True,\n",
    "                             metric     = 'mean_absolute_error',\n",
    "                             verbose    = False\n",
    "                             )"
   ]
  },
  {
   "cell_type": "code",
   "execution_count": 101,
   "id": "67fa1506",
   "metadata": {},
   "outputs": [
    {
     "data": {
      "image/png": "[encoded data removed]",
      "text/plain": [
       "<Figure size 792x324 with 1 Axes>"
      ]
     },
     "metadata": {},
     "output_type": "display_data"
    }
   ],
   "source": [
    "fig, ax = plt.subplots(figsize=(11, 4.5))\n",
    "data.loc[end_train:, 'close'].plot(ax=ax, linewidth=2, label='Test')\n",
    "# Plot predictions 1 lag with exogenous variables\n",
    "predictions_exog = predictions.rename(columns={'pred': f'Predictions, 1 lag with exog'})\n",
    "predictions_exog.plot(ax=ax, linewidth=2)\n",
    "\n",
    "ax.set_title('Close Price vs Predictions (Test Data)')\n",
    "ax.set_ylabel('Price (USD)')\n",
    "ax.legend();"
   ]
  },
  {
   "cell_type": "code",
   "execution_count": null,
   "id": "628d6cd5",
   "metadata": {},
   "outputs": [],
   "source": [
    "#L1 Regression"
   ]
  },
  {
   "cell_type": "code",
   "execution_count": 97,
   "id": "938d3682",
   "metadata": {},
   "outputs": [],
   "source": [
    "test2 = data.loc[end_train:, 'close'].values.reshape(-1, 1)"
   ]
  },
  {
   "cell_type": "code",
   "execution_count": 98,
   "id": "ac63b53d",
   "metadata": {},
   "outputs": [],
   "source": [
    "pred2 = predictions_exog.values.reshape(-1, 1)"
   ]
  },
  {
   "cell_type": "code",
   "execution_count": 72,
   "id": "6317e43d",
   "metadata": {},
   "outputs": [],
   "source": [
    "from sklearn import linear_model as lm"
   ]
  },
  {
   "cell_type": "code",
   "execution_count": 73,
   "id": "25989067",
   "metadata": {},
   "outputs": [],
   "source": [
    "lasso_reg = lm.Lasso(alpha=100, max_iter=100,tol=0.1)"
   ]
  },
  {
   "cell_type": "code",
   "execution_count": 99,
   "id": "36f59889",
   "metadata": {},
   "outputs": [
    {
     "data": {
      "text/plain": [
       "Lasso(alpha=100, max_iter=100, tol=0.1)"
      ]
     },
     "execution_count": 99,
     "metadata": {},
     "output_type": "execute_result"
    }
   ],
   "source": [
    "lasso_reg.fit(test2, pred2)"
   ]
  },
  {
   "cell_type": "code",
   "execution_count": 100,
   "id": "dfa7e693",
   "metadata": {},
   "outputs": [
    {
     "data": {
      "text/plain": [
       "0.957420832934658"
      ]
     },
     "execution_count": 100,
     "metadata": {},
     "output_type": "execute_result"
    }
   ],
   "source": [
    "lasso_reg.score(test2, pred2)"
   ]
  }
 ],
 "metadata": {
  "kernelspec": {
   "display_name": "Python 3 (ipykernel)",
   "language": "python",
   "name": "python3"
  },
  "language_info": {
   "codemirror_mode": {
    "name": "ipython",
    "version": 3
   },
   "file_extension": ".py",
   "mimetype": "text/x-python",
   "name": "python",
   "nbconvert_exporter": "python",
   "pygments_lexer": "ipython3",
   "version": "3.9.7"
  }
 },
 "nbformat": 4,
 "nbformat_minor": 5
}
